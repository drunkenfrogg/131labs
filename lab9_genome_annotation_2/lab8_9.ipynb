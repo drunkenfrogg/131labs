{
 "cells": [
  {
   "cell_type": "markdown",
   "metadata": {},
   "source": [
    "**Why do we expect short reads to produce a more fragmented assembly than long reads?**     \n",
    "Short reads are length of 50 to 150 nucleotides whereas long reads are length of 10 to 15 kb. Therefore more short reads are needed to map the entire genome.     \n",
    "\n",
    "**Why does a single-molecule sequencing like PacBio have a higher error rate than Illumina?**       \n",
    "Amplifying long reads (generating more copies of long reads) is error-prone than amplifying short reads because DNA polymerase tends to become destabilize as it moves forward.\n"
   ]
  },
  {
   "cell_type": "markdown",
   "metadata": {},
   "source": [
    "## Generate assembly statistics"
   ]
  },
  {
   "cell_type": "markdown",
   "metadata": {},
   "source": [
    "### Terminal\n",
    "\n",
    "**spades -t 1 -1 /data/lab8/illumina_reads_R1.fastq -2 /data/lab8/illumina_reads_R2.fastq --pacbio /data/lab8/pacbio_reads.fastq -o spades_output**    \n"
   ]
  },
  {
   "cell_type": "markdown",
   "metadata": {},
   "source": [
    "**use 'screen'**     \n",
    "ctrl-a c #creating windows      \n",
    "ctrl-a d #detach from screen     \n",
    "screen -r 12157 #reattach to screen\n",
    "ctrl-a M #getting alerts"
   ]
  },
  {
   "cell_type": "markdown",
   "metadata": {},
   "source": [
    "### Result from *assembly-stats*:"
   ]
  },
  {
   "cell_type": "markdown",
   "metadata": {},
   "source": [
    "**assembly-stats contigs.fasta**        \n",
    "> stats for contigs.fasta    \n",
    "sum = 6678635, n = 176, ave = 37946.79, largest = 414008     \n",
    "N50 = 234690, n = 11     \n",
    "N60 = 202142, n = 14     \n",
    "N70 = 154232, n = 18     \n",
    "N80 = 103367, n = 23     \n",
    "N90 = 81286, n = 30    \n",
    "N100 = 128, n = 176    \n",
    "N_count = 0    \n",
    "Gaps = 0     \n",
    "\n",
    "\n",
    "**assembly-stats scaffolds.fasta**\n",
    "> stats for scaffolds.fasta     \n",
    "sum = 6678655, n = 174, ave = 38383.07, largest = 414008     \n",
    "N50 = 234690, n = 11     \n",
    "N60 = 202142, n = 14     \n",
    "N70 = 154232, n = 18    \n",
    "N80 = 103367, n = 23    \n",
    "N90 = 81821, n = 30    \n",
    "N100 = 128, n = 174    \n",
    "N_count = 20    \n",
    "Gaps = 2    "
   ]
  },
  {
   "cell_type": "markdown",
   "metadata": {},
   "source": [
    "**Why is N50 is useful statistic to calculate? Why not just list the mean or median contig length? In your assembly, are scaffolds longer than contigs, or are scaffolds approximately equal to contigs?**    \n",
    "The N50 is similar to a mean or median of lengths, but has greater weight given to the longer contigs. N5O is defined as the minimum contig length needed to cover half of the genome. This informs you if the contigs you generated have biologically meaningful size. The lower N50, the longer the contigs and therefore the higher genome reconstitution. Just listing the mean or median contig length doesn't give information about how many meaningful contigs are generated and the quality of the genome assembly.        \n",
    "In my assembly, the scaffolds are approximately equal to contigs.    \n",
    "\n",
    "**Is coverage uniformly distributed? Does it look Gaussian? Is it bimodal or trimodal? What explains the presence of contigs with coverage an integer multiple of the mean coverage?**      \n",
    "Based on the printout from assembly-stat, the coverage is uniformly distributed. This is explained by the presence of contigs with coverage an integer multiple of the mean coverage. If all contigs has the same number of coverage, then total / average gives an integer.    \n"
   ]
  },
  {
   "cell_type": "markdown",
   "metadata": {},
   "source": [
    "## Extra Credit\n",
    "**The number of times a contig in your assembly was covered by the reads used to assemble it (“coverage”) is listed at the end of the contig name in contigs.fasta. Extract the coverage from each FASTA header and plot a histogram of coverage for all contigs in your assembly.**  "
   ]
  },
  {
   "cell_type": "markdown",
   "metadata": {},
   "source": [
    "Use SeqIO to extract the coverage from each FASTA header in contigs.fasta"
   ]
  },
  {
   "cell_type": "code",
   "execution_count": 16,
   "metadata": {},
   "outputs": [
    {
     "name": "stdout",
     "output_type": "stream",
     "text": [
      "NODE_1_length_414008_cov_7.740928\n",
      "NODE_2_length_378948_cov_10.006665\n",
      "NODE_3_length_360689_cov_7.539874\n",
      "NODE_4_length_332509_cov_9.114046\n",
      "NODE_5_length_327223_cov_9.241629\n",
      "NODE_6_length_298784_cov_8.918606\n",
      "NODE_7_length_297812_cov_8.126053\n",
      "NODE_8_length_273249_cov_8.706677\n",
      "NODE_9_length_261613_cov_7.455302\n",
      "NODE_10_length_235234_cov_7.139043\n",
      "NODE_11_length_234690_cov_8.642510\n",
      "NODE_12_length_213896_cov_7.910328\n",
      "NODE_13_length_207869_cov_6.973549\n",
      "NODE_14_length_202142_cov_8.264545\n",
      "NODE_15_length_198699_cov_7.418715\n",
      "NODE_16_length_177897_cov_8.846256\n",
      "NODE_17_length_167686_cov_8.577110\n",
      "NODE_18_length_154232_cov_9.584186\n",
      "NODE_19_length_148556_cov_8.773953\n",
      "NODE_20_length_145425_cov_7.418265\n",
      "NODE_21_length_135414_cov_7.113839\n",
      "NODE_22_length_124085_cov_8.039997\n",
      "NODE_23_length_103367_cov_10.081286\n",
      "NODE_24_length_102993_cov_7.785886\n",
      "NODE_25_length_101937_cov_7.854012\n",
      "NODE_26_length_101718_cov_8.146401\n",
      "NODE_27_length_92094_cov_7.136158\n",
      "NODE_28_length_83515_cov_8.555536\n",
      "NODE_29_length_81821_cov_7.722379\n",
      "NODE_30_length_81286_cov_9.311795\n",
      "NODE_31_length_61188_cov_8.238385\n",
      "NODE_32_length_58672_cov_9.074883\n",
      "NODE_33_length_57693_cov_7.372789\n",
      "NODE_34_length_55546_cov_7.420957\n",
      "NODE_35_length_54021_cov_6.469570\n",
      "NODE_36_length_49610_cov_8.116505\n",
      "NODE_37_length_44015_cov_7.612810\n",
      "NODE_38_length_42051_cov_7.993083\n",
      "NODE_39_length_41455_cov_7.424264\n",
      "NODE_40_length_39377_cov_7.895898\n",
      "NODE_41_length_26710_cov_7.608171\n",
      "NODE_42_length_24061_cov_7.601905\n",
      "NODE_43_length_13214_cov_7.314205\n",
      "NODE_44_length_8868_cov_8.455440\n",
      "NODE_45_length_3559_cov_14.119172\n",
      "NODE_46_length_2021_cov_10.363252\n",
      "NODE_47_length_1071_cov_5.239566\n",
      "NODE_48_length_1033_cov_7.030905\n",
      "NODE_49_length_1022_cov_5.388827\n",
      "NODE_50_length_1014_cov_0.708005\n",
      "NODE_51_length_999_cov_9.625000\n",
      "NODE_52_length_789_cov_6.539275\n",
      "NODE_53_length_658_cov_0.427495\n",
      "NODE_54_length_650_cov_4.630975\n",
      "NODE_55_length_601_cov_0.934599\n",
      "NODE_56_length_601_cov_0.812236\n",
      "NODE_57_length_601_cov_0.803797\n",
      "NODE_58_length_600_cov_6.890063\n",
      "NODE_59_length_600_cov_0.900634\n",
      "NODE_60_length_571_cov_0.898649\n",
      "NODE_61_length_537_cov_8.990244\n",
      "NODE_62_length_528_cov_0.980050\n",
      "NODE_63_length_504_cov_0.978780\n",
      "NODE_64_length_498_cov_0.929919\n",
      "NODE_65_length_496_cov_0.937669\n",
      "NODE_66_length_496_cov_0.834688\n",
      "NODE_67_length_495_cov_0.937500\n",
      "NODE_68_length_494_cov_0.923706\n",
      "NODE_69_length_493_cov_0.937158\n",
      "NODE_70_length_486_cov_0.958217\n",
      "NODE_71_length_486_cov_0.958217\n",
      "NODE_72_length_485_cov_0.944134\n",
      "NODE_73_length_484_cov_1.002801\n",
      "NODE_74_length_483_cov_0.721910\n",
      "NODE_75_length_481_cov_0.974576\n",
      "NODE_76_length_480_cov_0.977337\n",
      "NODE_77_length_480_cov_0.864023\n",
      "NODE_78_length_478_cov_0.982906\n",
      "NODE_79_length_477_cov_0.985714\n",
      "NODE_80_length_473_cov_0.933526\n",
      "NODE_81_length_473_cov_0.742775\n",
      "NODE_82_length_471_cov_0.941860\n",
      "NODE_83_length_469_cov_1.008772\n",
      "NODE_84_length_469_cov_0.918129\n",
      "NODE_85_length_468_cov_1.008798\n",
      "NODE_86_length_468_cov_0.692082\n",
      "NODE_87_length_467_cov_0.970588\n",
      "NODE_88_length_465_cov_1.020710\n",
      "NODE_89_length_464_cov_0.946588\n",
      "NODE_90_length_463_cov_0.952381\n",
      "NODE_91_length_462_cov_1.026866\n",
      "NODE_92_length_460_cov_0.855856\n",
      "NODE_93_length_459_cov_1.638554\n",
      "NODE_94_length_458_cov_1.039275\n",
      "NODE_95_length_458_cov_1.021148\n",
      "NODE_96_length_458_cov_0.740181\n",
      "NODE_97_length_457_cov_1.045455\n",
      "NODE_98_length_457_cov_0.936364\n",
      "NODE_99_length_457_cov_0.681818\n",
      "NODE_100_length_456_cov_0.772036\n",
      "NODE_101_length_454_cov_0.929664\n",
      "NODE_102_length_454_cov_0.642202\n",
      "NODE_103_length_453_cov_2.276074\n",
      "NODE_104_length_453_cov_1.000000\n",
      "NODE_105_length_453_cov_0.926380\n",
      "NODE_106_length_453_cov_0.769939\n",
      "NODE_107_length_452_cov_1.000000\n",
      "NODE_108_length_452_cov_0.969231\n",
      "NODE_109_length_452_cov_0.963077\n",
      "NODE_110_length_452_cov_0.849231\n",
      "NODE_111_length_451_cov_1.055556\n",
      "NODE_112_length_451_cov_1.006173\n",
      "NODE_113_length_451_cov_0.987654\n",
      "NODE_114_length_451_cov_0.728395\n",
      "NODE_115_length_450_cov_1.065015\n",
      "NODE_116_length_450_cov_0.650155\n",
      "NODE_117_length_449_cov_0.975155\n",
      "NODE_118_length_449_cov_0.928571\n",
      "NODE_119_length_448_cov_1.071651\n",
      "NODE_120_length_447_cov_1.053125\n",
      "NODE_121_length_447_cov_0.981250\n",
      "NODE_122_length_446_cov_0.927900\n",
      "NODE_123_length_444_cov_0.782334\n",
      "NODE_124_length_443_cov_0.702532\n",
      "NODE_125_length_442_cov_1.092063\n",
      "NODE_126_length_442_cov_0.879365\n",
      "NODE_127_length_441_cov_0.869427\n",
      "NODE_128_length_440_cov_0.859425\n",
      "NODE_129_length_440_cov_0.843450\n",
      "NODE_130_length_439_cov_1.092949\n",
      "NODE_131_length_438_cov_0.877814\n",
      "NODE_132_length_438_cov_0.836013\n",
      "NODE_133_length_437_cov_1.093548\n",
      "NODE_134_length_437_cov_0.909677\n",
      "NODE_135_length_437_cov_0.841935\n",
      "NODE_136_length_436_cov_1.135922\n",
      "NODE_137_length_435_cov_1.110390\n",
      "NODE_138_length_435_cov_0.714286\n",
      "NODE_139_length_434_cov_0.644951\n",
      "NODE_140_length_433_cov_0.918301\n",
      "NODE_141_length_433_cov_0.859477\n",
      "NODE_142_length_433_cov_0.787582\n",
      "NODE_143_length_432_cov_0.849180\n",
      "NODE_144_length_432_cov_0.836066\n",
      "NODE_145_length_431_cov_1.082237\n",
      "NODE_146_length_430_cov_1.033003\n",
      "NODE_147_length_430_cov_0.838284\n",
      "NODE_148_length_429_cov_0.688742\n",
      "NODE_149_length_428_cov_0.930233\n",
      "NODE_150_length_377_cov_6.848000\n",
      "NODE_151_length_330_cov_6.798030\n",
      "NODE_152_length_328_cov_11.805970\n",
      "NODE_153_length_304_cov_6.305085\n",
      "NODE_154_length_293_cov_3.566265\n",
      "NODE_155_length_268_cov_13.716312\n",
      "NODE_156_length_265_cov_2.442029\n",
      "NODE_157_length_250_cov_25.487805\n",
      "NODE_158_length_241_cov_13.710526\n",
      "NODE_159_length_235_cov_17.648148\n",
      "NODE_160_length_205_cov_37.012821\n",
      "NODE_161_length_198_cov_4.408451\n",
      "NODE_162_length_189_cov_8.758065\n",
      "NODE_163_length_183_cov_6.785714\n",
      "NODE_164_length_174_cov_2.042553\n",
      "NODE_165_length_170_cov_13.767442\n",
      "NODE_166_length_166_cov_2.692308\n",
      "NODE_167_length_164_cov_8.297297\n",
      "NODE_168_length_159_cov_4.843750\n",
      "NODE_169_length_145_cov_17.055556\n",
      "NODE_170_length_141_cov_14.785714\n",
      "NODE_171_length_141_cov_7.071429\n",
      "NODE_172_length_141_cov_5.714286\n",
      "NODE_173_length_141_cov_4.214286\n",
      "NODE_174_length_129_cov_17.000000\n",
      "NODE_175_length_128_cov_1536.000000\n",
      "NODE_176_length_128_cov_150.000000\n"
     ]
    }
   ],
   "source": [
    "# extract data\n",
    "ids = []\n",
    "from Bio import SeqIO\n",
    "f = open('spades_output/contigs.fasta', 'r')\n",
    "for record in SeqIO.parse(f, 'fasta'):\n",
    "    if '>' in record:\n",
    "        result.append(record)\n",
    "    print(record.id)\n",
    "    ids.append(record.id)"
   ]
  },
  {
   "cell_type": "code",
   "execution_count": 28,
   "metadata": {},
   "outputs": [
    {
     "data": {
      "text/plain": [
       "[7.740928,\n",
       " 10.006665,\n",
       " 7.539874,\n",
       " 9.114046,\n",
       " 9.241629,\n",
       " 8.918606,\n",
       " 8.126053,\n",
       " 8.706677,\n",
       " 7.455302,\n",
       " 7.139043,\n",
       " 8.64251,\n",
       " 7.910328,\n",
       " 6.973549,\n",
       " 8.264545,\n",
       " 7.418715,\n",
       " 8.846256,\n",
       " 8.57711,\n",
       " 9.584186,\n",
       " 8.773953,\n",
       " 7.418265,\n",
       " 7.113839,\n",
       " 8.039997,\n",
       " 10.081286,\n",
       " 7.785886,\n",
       " 7.854012,\n",
       " 8.146401,\n",
       " 7.136158,\n",
       " 8.555536,\n",
       " 7.722379,\n",
       " 9.311795,\n",
       " 8.238385,\n",
       " 9.074883,\n",
       " 7.372789,\n",
       " 7.420957,\n",
       " 6.46957,\n",
       " 8.116505,\n",
       " 7.61281,\n",
       " 7.993083,\n",
       " 7.424264,\n",
       " 7.895898,\n",
       " 7.608171,\n",
       " 7.601905,\n",
       " 7.314205,\n",
       " 8.45544,\n",
       " 14.119172,\n",
       " 10.363252,\n",
       " 5.239566,\n",
       " 7.030905,\n",
       " 5.388827,\n",
       " 0.708005,\n",
       " 9.625,\n",
       " 6.539275,\n",
       " 0.427495,\n",
       " 4.630975,\n",
       " 0.934599,\n",
       " 0.812236,\n",
       " 0.803797,\n",
       " 6.890063,\n",
       " 0.900634,\n",
       " 0.898649,\n",
       " 8.990244,\n",
       " 0.98005,\n",
       " 0.97878,\n",
       " 0.929919,\n",
       " 0.937669,\n",
       " 0.834688,\n",
       " 0.9375,\n",
       " 0.923706,\n",
       " 0.937158,\n",
       " 0.958217,\n",
       " 0.958217,\n",
       " 0.944134,\n",
       " 1.002801,\n",
       " 0.72191,\n",
       " 0.974576,\n",
       " 0.977337,\n",
       " 0.864023,\n",
       " 0.982906,\n",
       " 0.985714,\n",
       " 0.933526,\n",
       " 0.742775,\n",
       " 0.94186,\n",
       " 1.008772,\n",
       " 0.918129,\n",
       " 1.008798,\n",
       " 0.692082,\n",
       " 0.970588,\n",
       " 1.02071,\n",
       " 0.946588,\n",
       " 0.952381,\n",
       " 1.026866,\n",
       " 0.855856,\n",
       " 1.638554,\n",
       " 1.039275,\n",
       " 1.021148,\n",
       " 0.740181,\n",
       " 1.045455,\n",
       " 0.936364,\n",
       " 0.681818,\n",
       " 0.772036,\n",
       " 0.929664,\n",
       " 0.642202,\n",
       " 2.276074,\n",
       " 1.0,\n",
       " 0.92638,\n",
       " 0.769939,\n",
       " 1.0,\n",
       " 0.969231,\n",
       " 0.963077,\n",
       " 0.849231,\n",
       " 1.055556,\n",
       " 1.006173,\n",
       " 0.987654,\n",
       " 0.728395,\n",
       " 1.065015,\n",
       " 0.650155,\n",
       " 0.975155,\n",
       " 0.928571,\n",
       " 1.071651,\n",
       " 1.053125,\n",
       " 0.98125,\n",
       " 0.9279,\n",
       " 0.782334,\n",
       " 0.702532,\n",
       " 1.092063,\n",
       " 0.879365,\n",
       " 0.869427,\n",
       " 0.859425,\n",
       " 0.84345,\n",
       " 1.092949,\n",
       " 0.877814,\n",
       " 0.836013,\n",
       " 1.093548,\n",
       " 0.909677,\n",
       " 0.841935,\n",
       " 1.135922,\n",
       " 1.11039,\n",
       " 0.714286,\n",
       " 0.644951,\n",
       " 0.918301,\n",
       " 0.859477,\n",
       " 0.787582,\n",
       " 0.84918,\n",
       " 0.836066,\n",
       " 1.082237,\n",
       " 1.033003,\n",
       " 0.838284,\n",
       " 0.688742,\n",
       " 0.930233,\n",
       " 6.848,\n",
       " 6.79803,\n",
       " 11.80597,\n",
       " 6.305085,\n",
       " 3.566265,\n",
       " 13.716312,\n",
       " 2.442029,\n",
       " 25.487805,\n",
       " 13.710526,\n",
       " 17.648148,\n",
       " 37.012821,\n",
       " 4.408451,\n",
       " 8.758065,\n",
       " 6.785714,\n",
       " 2.042553,\n",
       " 13.767442,\n",
       " 2.692308,\n",
       " 8.297297,\n",
       " 4.84375,\n",
       " 17.055556,\n",
       " 14.785714,\n",
       " 7.071429,\n",
       " 5.714286,\n",
       " 4.214286,\n",
       " 17.0,\n",
       " 1536.0,\n",
       " 150.0]"
      ]
     },
     "execution_count": 28,
     "metadata": {},
     "output_type": "execute_result"
    }
   ],
   "source": [
    "# extract data\n",
    "import string\n",
    "cov = []\n",
    "for i in ids:\n",
    "    cov.append(float(i.split('_')[5]))\n",
    "cov "
   ]
  },
  {
   "cell_type": "markdown",
   "metadata": {},
   "source": [
    "Plot a histogram of coverage for all contigs in your assembly"
   ]
  },
  {
   "cell_type": "code",
   "execution_count": 37,
   "metadata": {},
   "outputs": [
    {
     "data": {
      "image/png": "[encoded data removed]",
      "text/plain": [
       "<Figure size 432x288 with 1 Axes>"
      ]
     },
     "metadata": {
      "needs_background": "light"
     },
     "output_type": "display_data"
    }
   ],
   "source": [
    "import matplotlib.pyplot as plt\n",
    "plt.hist(cov[:len(cov)], 50)\n",
    "plt.xlabel('coverage for all contigs')\n",
    "plt.ylabel('count')\n",
    "plt.show()"
   ]
  },
  {
   "cell_type": "markdown",
   "metadata": {},
   "source": [
    "The plot shows that almost all contigs have the same amount of coverage."
   ]
  },
  {
   "cell_type": "markdown",
   "metadata": {},
   "source": [
    "## Identify the taxon from which your genome originated"
   ]
  },
  {
   "cell_type": "markdown",
   "metadata": {},
   "source": [
    "1) Use **rna_hmm3.py** to scan over the entire genome to locate copies of the 16S ribosomal RNA gene.    \n",
    "\n",
    "**rna_hmm3.py -i spades_output/contigs.fasta -o hmm_output.gff**   \n",
    "input: contigs.fasta      \n",
    "output: hmm_output.gff (an annotation file)"
   ]
  },
  {
   "cell_type": "markdown",
   "metadata": {},
   "source": [
    "2) Use **bedtools getfasta** to extract the 16S rRNA genes from your assembly.           \n",
    "\n",
    "**bedtools getfasta -fi spades_output/contigs.fasta -bed hmm_output.gff -fo bedtools_output.fasta**     \n",
    "input1: contigs.fasta     \n",
    "input2: hmm_output.gff     \n",
    "output: bedtools_output.fasta\n"
   ]
  },
  {
   "cell_type": "markdown",
   "metadata": {},
   "source": [
    "3) Use **Ribosomal Database Project’s SeqMatch tool** to tompare these genes to a database of known 16S rRNA genes.   \n",
    "Write down your genus-level identification along with an explanation for how you came to this conclusion.\n",
    "\n",
    "The genus-level result is Pseudomonas. I got this conclusion because almost all results of the query sesquences show Pseudomonas with similar S_ab scores."
   ]
  },
  {
   "cell_type": "markdown",
   "metadata": {},
   "source": [
    "## Genome annotation\n",
    "\n",
    "*Upload contigs.fasta to two remote annotation services that will perform the annotation automatically: RAST and BASys*"
   ]
  },
  {
   "cell_type": "markdown",
   "metadata": {},
   "source": [
    "According to the result from BAsys Annotation Summary (Fig.1), the bacterium has RNA16s genome length of 414,009bp, with 444 genes total, with approx. 59% GC content (29% G and 30% C). The bacterium’s protein location shows it has cell structures like spore core membrane, integral membrane, cell inner membrane, cytoplasm, etc. The bacterium also has genes that encode proteins and functional RNA and is able to store and process information, perform cellular processes (such as moving and signaling), and perform metabolism. "
   ]
  },
  {
   "cell_type": "markdown",
   "metadata": {},
   "source": [
    "The annotation result done by RAST (Fig.2) provides similar results of the bacterium’s cell features. The subsystem information shows 71% of the genome, which is composed of CDS, repeat, and RNA, is not in subsystem of the bacterium. RAST was not able to identify the bacterium at species level (indicated by the name Pseudomonas sp.), but it has found the bacterium’s closest neighbors. The top three closest neighbors are: Pseudomonas fluorescens PfO-1 (scored 548), Pseudomonas syringae pv. phaseolicola 1448A (scored 485), and Pseudomonas putida KT2440 (scored 484). The “amino acids and derivatives” result does not show any isoleucine and valine biosynthesis functions, indicating that the bacterium is auxotrophic for these proteins. It’s closest neighbor, Pseudomonas fluorescens PfO-1, is also auxotrophic isoleucine and valine. \n",
    "The genome encodes Toxin higB-2 [H] and Multiple antibiotic resistance protein marR [H]. The multiple antibiotic resistance protein marR [H] implies the existence of its antibiotic resistant gene. I expect the bacterium to be susceptible to penicillin. Penicillin acrylates the active site of D-alanine carboxypeptidase which is also found in the bacterium we are analyzing. "
   ]
  },
  {
   "cell_type": "markdown",
   "metadata": {},
   "source": [
    "Pseudomonas tend to reside at warm, humid, and nutritious environment. A study shows that the changes of mRNA and proteins in Pseudomonas aeruginosa are environmental-driven (Erdamnn J, et.al). The researchers use LC-MS techniques to compare the RNA-to-protein ratios for each individual gene and explore the relationship between the differentiated mRNA and the correlated environmental conditions. They have successfully observed the condition-dependent post-transcriptional regulatory events in the complex mRNA-to-protein processes. "
   ]
  },
  {
   "cell_type": "markdown",
   "metadata": {},
   "source": [
    "The “rapid diversification of Pseudomonas aeruginosa in cystic fibrosis lung-like conditions” is also shows that the bacterium’s ability to diversify rapidly which is the leading cause of morbidity and mortality for adult cystic fibrosis patients, therefore it is considered a human pathogen (Castledine M, et.al). The unique conditions of the cystic fibrosis airway and lung environment induces “rapid and extensive diversification of P.aeruginosa Mucin, the substance responsible for increased viscosity” which can “promote divergence among population”. Therefore, the bacterium would be considered a human pathogen."
   ]
  },
  {
   "cell_type": "markdown",
   "metadata": {},
   "source": [
    "**References**\n",
    "1. Erdmann, J., Preusse, M., Khaledi, A., Pich, A., & Häussler, S. (n.d.). Environment-driven changes of mRNA and protein levels in Pseudomonas aeruginosa. Retrieved from https://www.ncbi.nlm.nih.gov/pubmed/30346651\n",
    "\n",
    "2. Schick, A., & Kassen, R. (2018, October 16). Rapid diversification of Pseudomonas aeruginosa in cystic fibrosis lung-like conditions. Retrieved from https://www.ncbi.nlm.nih.gov/pubmed/30275334 \n",
    "\n",
    "\n"
   ]
  },
  {
   "cell_type": "markdown",
   "metadata": {},
   "source": [
    "Figure 1\n",
    "![figure1](1.png)"
   ]
  },
  {
   "cell_type": "markdown",
   "metadata": {},
   "source": [
    "Figure 2\n",
    "![figure2](2.png)"
   ]
  }
 ],
 "metadata": {
  "kernelspec": {
   "display_name": "Python 3",
   "language": "python",
   "name": "python3"
  },
  "language_info": {
   "codemirror_mode": {
    "name": "ipython",
    "version": 3
   },
   "file_extension": ".py",
   "mimetype": "text/x-python",
   "name": "python",
   "nbconvert_exporter": "python",
   "pygments_lexer": "ipython3",
   "version": "3.6.6"
  }
 },
 "nbformat": 4,
 "nbformat_minor": 2
}
