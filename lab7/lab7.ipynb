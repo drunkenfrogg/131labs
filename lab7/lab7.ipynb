{
 "cells": [
  {
   "cell_type": "markdown",
   "metadata": {},
   "source": [
    "**Import packages**"
   ]
  },
  {
   "cell_type": "code",
   "execution_count": 1,
   "metadata": {},
   "outputs": [],
   "source": [
    "import numpy as np\n",
    "import subprocess\n",
    "from Bio import Entrez\n",
    "from Bio import SeqIO"
   ]
  },
  {
   "cell_type": "markdown",
   "metadata": {},
   "source": [
    "## Simulating the data\n",
    "Write sample data files containing 100%, 90%, 80%, 70%, 60%, and 50% zeros (100Mb each) automately.     \n",
    "100 * (1024kb/mb) * (1024bytes/kb) * (8bits/byte)      "
   ]
  },
  {
   "cell_type": "code",
   "execution_count": 2,
   "metadata": {},
   "outputs": [],
   "source": [
    "p_zero = [[\"zeros_100p\", [1, 0]], \n",
    "          [\"zeros_90p\", [0.9, 0.1]], \n",
    "          [\"zeros_80p\", [0.8, 0.2]],\n",
    "          [\"zeros_70p\", [0.7, 0.3]],\n",
    "          [\"zeros_60p\", [0.6, 0.4]],\n",
    "          [\"zeros_50p\", [0.5, 0.5]]\n",
    "         ]\n"
   ]
  },
  {
   "cell_type": "markdown",
   "metadata": {},
   "source": [
    "**np.random.choice**     \n",
    "first arg: the sample pool   \n",
    "size: sample size     \n",
    "replace: whether or not the sample is returned to sample pool    \n",
    "p: probability    "
   ]
  },
  {
   "cell_type": "code",
   "execution_count": 3,
   "metadata": {},
   "outputs": [],
   "source": [
    "# Run this once\n",
    "for i in p_zero:\n",
    "    myvar = np.random.choice([0, 1], size=(8, 1024, 1024, 100), replace=True, p=i[1])\n",
    "    myvar = np.packbits(myvar)\n",
    "    open(i[0], \"wb\").write(myvar)"
   ]
  },
  {
   "cell_type": "markdown",
   "metadata": {},
   "source": [
    "#### Generate 100-million-letter-long DNA sequences \n"
   ]
  },
  {
   "cell_type": "code",
   "execution_count": 15,
   "metadata": {},
   "outputs": [
    {
     "data": {
      "text/plain": [
       "100000000"
      ]
     },
     "execution_count": 15,
     "metadata": {},
     "output_type": "execute_result"
    }
   ],
   "source": [
    "# Run this once\n",
    "my_nt_seq = np.random.choice(['A', 'T', 'C', 'G'], size=100000000, p=[0.25, 0.25, 0.25, 0.25])\n",
    "open('nt_seq.fa', 'w').write(''.join(my_nt_seq))"
   ]
  },
  {
   "cell_type": "markdown",
   "metadata": {},
   "source": [
    "#### Generate 100-million-letter-long protein sequences "
   ]
  },
  {
   "cell_type": "code",
   "execution_count": 17,
   "metadata": {},
   "outputs": [
    {
     "data": {
      "text/plain": [
       "100000000"
      ]
     },
     "execution_count": 17,
     "metadata": {},
     "output_type": "execute_result"
    }
   ],
   "source": [
    "# Run this once\n",
    "my_protein_seq = np.random.choice(['R', 'K', 'D', 'E', \n",
    "                      'Q', 'N', 'H', 'S', 'T', 'Y', 'C', 'W',\n",
    "                      'A', 'I', 'L', 'M', 'F', 'V', 'P', 'G'],\n",
    "                     size=(100000000), p=[1/20 for n in range(20)])\n",
    "open('protein_seq.fa', 'w').write(''.join(my_protein_seq))"
   ]
  },
  {
   "cell_type": "markdown",
   "metadata": {},
   "source": [
    "## Terminal"
   ]
  },
  {
   "cell_type": "markdown",
   "metadata": {},
   "source": [
    "Here are the commands I will be using in terminal.I will run the codes in separate trunks."
   ]
  },
  {
   "cell_type": "code",
   "execution_count": 3,
   "metadata": {},
   "outputs": [],
   "source": [
    "cmds_gzip = []\n",
    "cmds_bzip2 = []\n",
    "cmds_pbzip2 = []\n",
    "cmds_art = []\n",
    "\n",
    "for i in p_zero:\n",
    "    cmds_gzip.append('time gzip -k ' + i[0])\n",
    "    cmds_bzip2.append('time bzip2 -k '+ i[0] )\n",
    "    cmds_pbzip2.append('time pbzip2 -k ' + i[0])\n",
    "    cmds_art.append('time ArithmeticCompress ' + i[0] + ' ' + i[0] + '.art')\n",
    "    \n",
    "cmds_gzip.append('time gzip -k nt_seq.fa')\n",
    "cmds_bzip2.append('time bzip2 -k nt_seq.fa')\n",
    "cmds_pbzip2.append('time pbzip2 -k nt_seq.fa')\n",
    "cmds_art.append('time ArithmeticCompress nt_seq.fa  nt_seq.art')\n",
    "\n",
    "cmds_gzip.append('time gzip -k protein_seq.fa')\n",
    "cmds_bzip2.append('time bzip2 -k protein_seq.fa')\n",
    "cmds_pbzip2.append('time pbzip2 -k protein_seq.fa')\n",
    "cmds_art.append('time ArithmeticCompress protein_seq.fa  protein_seq.art')"
   ]
  },
  {
   "cell_type": "markdown",
   "metadata": {},
   "source": [
    "**Run gzip**"
   ]
  },
  {
   "cell_type": "code",
   "execution_count": 7,
   "metadata": {},
   "outputs": [
    {
     "name": "stdout",
     "output_type": "stream",
     "text": [
      "time gzip -k zeros_100p\n",
      "0.85user 0.01system 0:00.87elapsed 99%CPU (0avgtext+0avgdata 1908maxresident)k\n",
      "0inputs+200outputs (0major+146minor)pagefaults 0swaps\n",
      "\n",
      "time gzip -k zeros_90p\n",
      "18.82user 0.09system 0:18.92elapsed 99%CPU (0avgtext+0avgdata 1816maxresident)k\n",
      "0inputs+114720outputs (0major+139minor)pagefaults 0swaps\n",
      "\n",
      "time gzip -k zeros_80p\n",
      "13.35user 0.11system 0:13.46elapsed 99%CPU (0avgtext+0avgdata 1776maxresident)k\n",
      "0inputs+158520outputs (0major+131minor)pagefaults 0swaps\n",
      "\n",
      "time gzip -k zeros_70p\n",
      "7.45user 0.19system 0:07.65elapsed 99%CPU (0avgtext+0avgdata 1764maxresident)k\n",
      "0inputs+182848outputs (0major+130minor)pagefaults 0swaps\n",
      "\n",
      "time gzip -k zeros_60p\n",
      "4.97user 0.18system 0:05.16elapsed 100%CPU (0avgtext+0avgdata 1788maxresident)k\n",
      "0inputs+200040outputs (0major+204minor)pagefaults 0swaps\n",
      "\n",
      "time gzip -k zeros_50p\n",
      "4.28user 0.18system 0:04.47elapsed 100%CPU (0avgtext+0avgdata 1800maxresident)k\n",
      "0inputs+204840outputs (0major+132minor)pagefaults 0swaps\n",
      "\n",
      "time gzip -k nt_seq.fa\n",
      "12.14user 0.07system 0:12.21elapsed 99%CPU (0avgtext+0avgdata 1824maxresident)k\n",
      "0inputs+57080outputs (0major+139minor)pagefaults 0swaps\n",
      "\n",
      "time gzip -k protein_seq.fa\n",
      "4.46user 0.11system 0:04.58elapsed 99%CPU (0avgtext+0avgdata 1840maxresident)k\n",
      "0inputs+118280outputs (0major+218minor)pagefaults 0swaps\n",
      "\n"
     ]
    }
   ],
   "source": [
    "# Run once\n",
    "for cmd in cmds_gzip:\n",
    "    print(cmd)\n",
    "    !{cmd}\n",
    "    print()"
   ]
  },
  {
   "cell_type": "markdown",
   "metadata": {},
   "source": [
    "**Run bzip2**"
   ]
  },
  {
   "cell_type": "code",
   "execution_count": 8,
   "metadata": {},
   "outputs": [
    {
     "name": "stdout",
     "output_type": "stream",
     "text": [
      "time bzip2 -k zeros_100p\n",
      "1.03user 0.05system 0:01.08elapsed 100%CPU (0avgtext+0avgdata 8828maxresident)k\n",
      "0inputs+8outputs (0major+1904minor)pagefaults 0swaps\n",
      "\n",
      "time bzip2 -k zeros_90p\n",
      "13.37user 0.12system 0:13.50elapsed 99%CPU (0avgtext+0avgdata 7724maxresident)k\n",
      "0inputs+119448outputs (0major+1690minor)pagefaults 0swaps\n",
      "\n",
      "time bzip2 -k zeros_80p\n",
      "11.93user 0.13system 0:12.07elapsed 99%CPU (0avgtext+0avgdata 7716maxresident)k\n",
      "0inputs+169232outputs (0major+1691minor)pagefaults 0swaps\n",
      "\n",
      "time bzip2 -k zeros_70p\n",
      "13.82user 0.14system 0:13.96elapsed 99%CPU (0avgtext+0avgdata 7824maxresident)k\n",
      "0inputs+194848outputs (0major+1691minor)pagefaults 0swaps\n",
      "\n",
      "time bzip2 -k zeros_60p\n",
      "15.68user 0.16system 0:15.85elapsed 99%CPU (0avgtext+0avgdata 7720maxresident)k\n",
      "0inputs+204904outputs (0major+1690minor)pagefaults 0swaps\n",
      "\n",
      "time bzip2 -k zeros_50p\n",
      "20.90user 0.17system 0:21.08elapsed 99%CPU (0avgtext+0avgdata 7732maxresident)k\n",
      "0inputs+205720outputs (0major+1690minor)pagefaults 0swaps\n",
      "\n",
      "time bzip2 -k nt_seq.fa\n",
      "11.95user 0.05system 0:12.01elapsed 99%CPU (0avgtext+0avgdata 7704maxresident)k\n",
      "0inputs+53392outputs (0major+1689minor)pagefaults 0swaps\n",
      "\n",
      "time bzip2 -k protein_seq.fa\n",
      "12.53user 0.12system 0:12.65elapsed 99%CPU (0avgtext+0avgdata 7700maxresident)k\n",
      "0inputs+107920outputs (0major+1689minor)pagefaults 0swaps\n",
      "\n"
     ]
    }
   ],
   "source": [
    "# Run once\n",
    "for cmd in cmds_bzip2:\n",
    "    print(cmd)\n",
    "    !{cmd}\n",
    "    print()"
   ]
  },
  {
   "cell_type": "markdown",
   "metadata": {},
   "source": [
    "**Run pbzip2**"
   ]
  },
  {
   "cell_type": "code",
   "execution_count": 11,
   "metadata": {},
   "outputs": [
    {
     "name": "stdout",
     "output_type": "stream",
     "text": [
      "time pbzip2 -k zeros_100p\n",
      "1.94user 0.12system 0:00.10elapsed 1993%CPU (0avgtext+0avgdata 48688maxresident)k\n",
      "0inputs+16outputs (0major+25958minor)pagefaults 0swaps\n",
      "\n",
      "time pbzip2 -k zeros_90p\n",
      "19.32user 0.80system 0:00.77elapsed 2590%CPU (0avgtext+0avgdata 275644maxresident)k\n",
      "0inputs+119504outputs (0major+223861minor)pagefaults 0swaps\n",
      "\n",
      "time pbzip2 -k zeros_80p\n",
      "23.36user 0.89system 0:00.93elapsed 2605%CPU (0avgtext+0avgdata 281984maxresident)k\n",
      "0inputs+169264outputs (0major+228748minor)pagefaults 0swaps\n",
      "\n",
      "time pbzip2 -k zeros_70p\n",
      "29.44user 0.85system 0:01.13elapsed 2664%CPU (0avgtext+0avgdata 285340maxresident)k\n",
      "0inputs+194864outputs (0major+243610minor)pagefaults 0swaps\n",
      "\n",
      "time pbzip2 -k zeros_60p\n",
      "36.15user 0.88system 0:01.38elapsed 2666%CPU (0avgtext+0avgdata 288592maxresident)k\n",
      "0inputs+204920outputs (0major+259600minor)pagefaults 0swaps\n",
      "\n",
      "time pbzip2 -k zeros_50p\n",
      "39.97user 0.90system 0:01.51elapsed 2690%CPU (0avgtext+0avgdata 288816maxresident)k\n",
      "0inputs+205736outputs (0major+271634minor)pagefaults 0swaps\n",
      "\n",
      "time pbzip2 -k nt_seq.fa\n",
      "15.91user 0.69system 0:00.63elapsed 2598%CPU (0avgtext+0avgdata 265128maxresident)k\n",
      "0inputs+53416outputs (0major+207447minor)pagefaults 0swaps\n",
      "\n",
      "time pbzip2 -k protein_seq.fa\n",
      "18.37user 0.85system 0:00.74elapsed 2568%CPU (0avgtext+0avgdata 270072maxresident)k\n",
      "0inputs+107928outputs (0major+213499minor)pagefaults 0swaps\n",
      "\n"
     ]
    }
   ],
   "source": [
    "# Run once\n",
    "for cmd in cmds_pbzip2:\n",
    "    print(cmd)\n",
    "    !{cmd}\n",
    "    print()"
   ]
  },
  {
   "cell_type": "markdown",
   "metadata": {},
   "source": [
    "**Run ArithmetricCompress**"
   ]
  },
  {
   "cell_type": "code",
   "execution_count": 12,
   "metadata": {},
   "outputs": [
    {
     "name": "stdout",
     "output_type": "stream",
     "text": [
      "time ArithmeticCompress zeros_100p zeros_100p.art\n",
      "17.60user 0.09system 0:17.70elapsed 99%CPU (0avgtext+0avgdata 4344maxresident)k\n",
      "0inputs+8outputs (0major+231minor)pagefaults 0swaps\n",
      "\n",
      "time ArithmeticCompress zeros_90p zeros_90p.art\n",
      "28.65user 0.20system 0:28.86elapsed 99%CPU (0avgtext+0avgdata 4360maxresident)k\n",
      "0inputs+96056outputs (0major+234minor)pagefaults 0swaps\n",
      "\n",
      "time ArithmeticCompress zeros_80p zeros_80p.art\n",
      "35.42user 0.27system 0:35.69elapsed 99%CPU (0avgtext+0avgdata 4212maxresident)k\n",
      "0inputs+147856outputs (0major+232minor)pagefaults 0swaps\n",
      "\n",
      "time ArithmeticCompress zeros_70p zeros_70p.art\n",
      "39.17user 0.38system 0:39.56elapsed 99%CPU (0avgtext+0avgdata 4164maxresident)k\n",
      "0inputs+180496outputs (0major+233minor)pagefaults 0swaps\n",
      "\n",
      "time ArithmeticCompress zeros_60p zeros_60p.art\n",
      "51.66user 0.45system 0:52.11elapsed 99%CPU (0avgtext+0avgdata 4284maxresident)k\n",
      "0inputs+198856outputs (0major+232minor)pagefaults 0swaps\n",
      "\n",
      "time ArithmeticCompress zeros_50p zeros_50p.art\n",
      "51.40user 0.41system 0:51.81elapsed 99%CPU (0avgtext+0avgdata 4296maxresident)k\n",
      "0inputs+204808outputs (0major+232minor)pagefaults 0swaps\n",
      "\n",
      "time ArithmeticCompress nt_seq.fa  nt_seq.art\n",
      "26.94user 0.25system 0:27.20elapsed 100%CPU (0avgtext+0avgdata 4296maxresident)k\n",
      "0inputs+48832outputs (0major+236minor)pagefaults 0swaps\n",
      "\n",
      "time ArithmeticCompress protein_seq.fa  protein_seq.art\n",
      "28.27user 0.34system 0:28.62elapsed 99%CPU (0avgtext+0avgdata 4272maxresident)k\n",
      "0inputs+105520outputs (0major+232minor)pagefaults 0swaps\n",
      "\n"
     ]
    }
   ],
   "source": [
    "# Run once\n",
    "for cmd in cmds_art:\n",
    "    print(cmd)\n",
    "    !{cmd}\n",
    "    print()"
   ]
  },
  {
   "cell_type": "markdown",
   "metadata": {},
   "source": [
    "|command |input file | input size| output file | output size| time|\n",
    "|--------|-----------|-----------|-------------|------------|-----|\n",
    "|**gzip**|zeros_100p|105 MB|zeros_100p.gz|102 KB|0.85s|\n",
    "|gzip|zeros_90p|105 MB|zeros_90p.gz|58.7 MB|18.82s|\n",
    "|gzip|zeros_80p|105 MB|zeros_80p.gz|81.2 MB|13.35s|\n",
    "|gzip|zeros_70p|105 MB|zeros_70p.gz|93.6 MB|7.45s|\n",
    "|gzip|zeros_60P|105 MB|zeros_60p.gz|102 MB|4.97s|\n",
    "|gzip|zeros_50p|105 MB|zeros_50p.gz|105 MB|4.28s|\n",
    "|gzip|nt_seq.fa|100 MB|nt_seq.fa.gz|29.2 MB|12.14s|\n",
    "|gzip|protein_seq.fa|100 MB|protein_seq.fa.gz|60.6 MB|4.46s|\n",
    "|--------|-----------|-----------|-------------|------------|-----|\n",
    "|**bzip2**|zeros_100p|105 MB|zeros_100p.bz2|113 B|1.03s|\n",
    "|bzip2|zeros_90p|105 MB|zeros_90p.bz2|61.2 MB|13.37s|\n",
    "|bzip2|zeros_80p|105 MB|zeros_80p.bz2|86.6 MB|11.93s|\n",
    "|bzip2|zeros_70p|105 MB|zeros_70p.bz2|99.8 MB|13.82s|\n",
    "|bzip2|zeros_60P|105 MB|zeros_60p.bz2|105 MB|15.68s|\n",
    "|bzip2|zeros_50p|105 MB|zeros_50p.bz2|105 MB|20.90s|\n",
    "|bzip2|nt_seq.fa|100 MB|nt_seq.fa.bz2|27.3 MB|11.95s|\n",
    "|bzip2|protein_seq.fa|100 MB|protein_seq.fa.bz2|55.3 MB|12.53s|\n",
    "|--------|-----------|-----------|-------------|------------|-----|\n",
    "|**pbzip2**|zeros_100p|105 MB|zeros_100p.bz2|5.62 KB|1.94s|\n",
    "|pbzip2|zeros_90p|105 MB|zeros_90p.bz2|61.2 MB|19.32s|\n",
    "|pbzip2|zeros_80p|105 MB|zeros_80p.bz2|86.7 MB|23.36s|\n",
    "|pbzip2|zeros_70p|105 MB|zeros_70p.bz2|99.8 MB|29.44s|\n",
    "|pbzip2|zeros_60P|105 MB|zeros_60p.bz2|105 MB|36.15s|\n",
    "|pbzip2|zeros_50p|105 MB|zeros_50p.bz2|105 MB|39.97s|\n",
    "|pbzip2|nt_seq.fa|100 MB|nt_seq.fa.bz2|27.3 MB|15.91s|\n",
    "|pbzip2|protein_seq.fa|100 MB|protein_seq.fa.bz2|55.3 MB|18.37s|\n",
    "|--------|-----------|-----------|-------------|------------|-----|\n",
    "|**ArithmeticCompress**|zeros_100p|105 MB|zeros_100p.bz2|1.03 KB|17.60s|\n",
    "|ArithmeticCompress|zeros_90p|105 MB|zeros_90p.art|49.2 MB|28.65s|\n",
    "|ArithmeticCompress|zeros_80p|105 MB|zeros_80p.art|75.7 MB|35.42s|\n",
    "|ArithmeticCompress|zeros_70p|105 MB|zeros_70p.art|92.4 MB|39.17s|\n",
    "|ArithmeticCompress|zeros_60P|105 MB|zeros_60p.art|102 MB|51.66s|\n",
    "|ArithmeticCompress|zeros_50p|105 MB|zeros_50p.art|105 MB|51.40s|\n",
    "|ArithmeticCompress|nt_seq.fa|100 MB|nt_seq.fa.art|25 MB|26.94s|\n",
    "|ArithmeticCompress|protein_seq.fa|100 MB|protein_seq.fa.art|54 MB|28.27s|"
   ]
  },
  {
   "cell_type": "markdown",
   "metadata": {},
   "source": [
    "**Which algorithm achieves the best level of compression on each file type?**    \n",
    "ArithmeticCompress achieves the best level of compression on both .wb and .fa files. \n",
    "\n",
    "**Which algorithm is the fastest?**   \n",
    "bzip2 is the fastest for all files except for zeros_100p.  \n",
    "\n",
    "**What is the difference between bzip2 and pbzip2? Do you expect one to be faster and why?**     \n",
    "bzip2 compresses data in blocks of size between 100~900kB. Its algorithm converts frequently-recurring character sequences into strings of identitital letters. bzip2 performance is asymmetric, as decompression is relatively fast.    \n",
    "pbzip2, a modified version of bzip2, supports multi-threading (execute threads parallelly), giving almost linear speed improvements on multi-CPU and multi-core computers. (Note: info extracted from wikipedia)      \n",
    "I expect pbzip2 to be faster because it runs multiple threads at the same time whereas bzip2 only runs single thread.     \n",
    "\n",
    "**How does the level of compression change as the percentage of zeros increases? Why does this happen?**    \n",
    "When zeros increases, level of compression increases.    \n",
    "\n",
    "**What is the minimum number of bits required to store a single DNA base?**    \n",
    "2 bits per DNA base.\n",
    "\n",
    "**What is the minimum number of bits required to store an amino acid letter?**    \n",
    "4.322 bits (log20) per amino acid.\n",
    "\n",
    "**In your tests, how many bits did gzip and bzip2 actually require to store your random DNA and protein sequences?**    \n",
    "*DNA gzip:*     \n",
    "DNA seq has 100 million nucleotides and size 100MB (8bits/nt).     \n",
    "gzip compresses it to 29.2MB (29.2MB * 1024KB/MB * 1024B/KB * 8bits/B = 244947353.6 bytes).    \n",
    "244947353.6 bytes/100 million nts = 2.449 bytes/nucleotide.    \n",
    "\n",
    "*DNA bzip2:*     \n",
    "DNA seq has 100 million nucleotides and size 100MB (8bits/nt).     \n",
    "bzip2 compresses it to 27.3MB (27.3MB * 1024KB/MB * 1024B/KB * 8bits/B = 229008998.4 bytes).    \n",
    "229008998.4 bytes/100 million nts = 2.290 bytes/nucleotide. \n",
    "\n",
    "*Protein gzip:*     \n",
    "Protein seq has 100 million AA and size 100MB (8bits/aa).     \n",
    "gzip compresses it to 60.6MB (60.6MB * 1024KB/MB * 1024B/KB * 8bits/B = 508349644.8 bytes).    \n",
    "508349644.8 bytes/100 million aas = 5.08 bytes/AA.   \n",
    "\n",
    "*Protein bzip2:*     \n",
    "Protein seq has 100 million AA and size 100MB (8bits/aa).     \n",
    "gzip compresses it to 55.3MB (55.3MB * 1024KB/MB * 1024B/KB * 8bits/B = 463890022.4 bytes).    \n",
    "463890022.4 bytes/100 million aas = 4.639 bytes/AA.\n",
    "\n",
    "**Are gzip and bzip2 performing well on DNA and proteins?**    \n",
    "Yes. gzip and bzip2 compress DNA files into 29.2MB and 27.3MB and protein files into 55.3MB and 55.3MB respectively. bzip2 takes less bytes to store each nucleotide and amino acid.    "
   ]
  },
  {
   "cell_type": "markdown",
   "metadata": {},
   "source": [
    "## Compressing real data\n",
    "find the nucleic acid sequences of gp120 homologs from at least 10 different HIV isolates and concatenate them together into a single multi-FASTA."
   ]
  },
  {
   "cell_type": "markdown",
   "metadata": {},
   "source": [
    "### Entrez "
   ]
  },
  {
   "cell_type": "markdown",
   "metadata": {},
   "source": [
    "Search the nuclueic acid sequences of gp120 homologs from 10 different HIV isolates in Entrez nucleotide database. Get the IDs."
   ]
  },
  {
   "cell_type": "markdown",
   "metadata": {},
   "source": [
    "**A priori, do you expect to achieve better or worse compression here than random data? Why?**     \n",
    "I expect to achieve better compression here than random data because the fasta file here contains shorter sequences, which requires less specificity.\n"
   ]
  },
  {
   "cell_type": "code",
   "execution_count": 37,
   "metadata": {},
   "outputs": [
    {
     "name": "stdout",
     "output_type": "stream",
     "text": [
      "['MG515154.1', 'MG515153.1', 'MG515152.1', 'MG515151.1', 'MG515150.1', 'MG515149.1', 'MG515148.1', 'MG515147.1', 'MG515146.1', 'MG515145.1']\n"
     ]
    }
   ],
   "source": [
    "# Run once\n",
    "Entrez.email = \"jinghuawu@berkeley.edu\"\n",
    "handle = Entrez.esearch(db='nucleotide', \n",
    "                        term='gp120 hiv', \n",
    "                        sort='relevance',\n",
    "                        idtype='acc',\n",
    "                        retmax=10)\n",
    "records = Entrez.read(handle)\n",
    "print (records['IdList'])"
   ]
  },
  {
   "cell_type": "markdown",
   "metadata": {},
   "source": [
    "Use the result IDs to fetch info from nucleotide database, rettype is fasta. Use SeqIO to read the fasta result and write a fasta file containing multiple fasta results."
   ]
  },
  {
   "cell_type": "code",
   "execution_count": 38,
   "metadata": {},
   "outputs": [],
   "source": [
    "# Run once\n",
    "ids = records['IdList']\n",
    "f = open('gp120_HIVisolates.fa', 'w')\n",
    "for i in ids:\n",
    "    handle = Entrez.efetch(db='nucleotide', \n",
    "                          id=i, \n",
    "                          rettype='fasta', \n",
    "                          retmode='text')\n",
    "    record = SeqIO.read(handle, 'fasta')\n",
    "    fasta = SeqIO.write(record, f, \"fasta\")\n",
    "f.close()"
   ]
  },
  {
   "cell_type": "markdown",
   "metadata": {},
   "source": [
    "## Compress the multi-FASTA using gzip, bzip2, and arithmetic coding"
   ]
  },
  {
   "cell_type": "markdown",
   "metadata": {},
   "source": [
    "### Terminal"
   ]
  },
  {
   "cell_type": "code",
   "execution_count": 42,
   "metadata": {},
   "outputs": [
    {
     "name": "stdout",
     "output_type": "stream",
     "text": [
      "0.00user 0.00system 0:00.00elapsed 100%CPU (0avgtext+0avgdata 1640maxresident)k\n",
      "0inputs+8outputs (0major+94minor)pagefaults 0swaps\n",
      "bzip2: Output file gp120_HIVisolates.fa.bz2 already exists.\n",
      "Command exited with non-zero status 1\n",
      "0.00user 0.00system 0:00.00elapsed 100%CPU (0avgtext+0avgdata 1604maxresident)k\n",
      "0inputs+0outputs (0major+70minor)pagefaults 0swaps\n",
      "0.00user 0.00system 0:00.00elapsed 100%CPU (0avgtext+0avgdata 3180maxresident)k\n",
      "0inputs+8outputs (0major+152minor)pagefaults 0swaps\n",
      "0.00user 0.00system 0:00.00elapsed 100%CPU (0avgtext+0avgdata 4232maxresident)k\n",
      "0inputs+8outputs (0major+234minor)pagefaults 0swaps\n"
     ]
    }
   ],
   "source": [
    "# Run once\n",
    "! time gzip -k gp120_HIVisolates.fa\n",
    "! time bzip2 -k gp120_HIVisolates.fa\n",
    "! mv gp120_HIVisolates.fa.bz2 gp120_HIVisolates_bzip2.fa.bz2 # change name to prevent overwrite\n",
    "! time pbzip2 -k gp120_HIVisolates.fa\n",
    "! time ArithmeticCompress gp120_HIVisolates.fa gp120_HIVisolates.art"
   ]
  },
  {
   "cell_type": "markdown",
   "metadata": {},
   "source": [
    "**How does the compression ratio of this file compare to random data?**   \n",
    "Except for ArithmeticCompress, all other algorithms generate higher compression ratios in the gp120 fasta data compare to the random data (see table below)."
   ]
  },
  {
   "cell_type": "markdown",
   "metadata": {},
   "source": [
    "|command |input file | input size| output file | output size| time|ratio(in/out)| \n",
    "|--------|-----------|-----------|-------------|------------|-----|-----|\n",
    "|gzip|nt_seq.fa|100 MB|nt_seq.fa.gz|29.2 MB|12.14s|3.42|\n",
    "|gzip|gp120_HIVisolates.fa|6.05KB|gp120_HIVisolates.fa.gz|821B|0.00s|7.546|\n",
    "|bzip2|nt_seq.fa|100 MB|nt_seq.fa.bz2|27.3 MB|11.95s|3.66|\n",
    "|bzip2|gp120_HIVisolates.fa|6.05KB|gp120_HIVisolates.fa.bz2|998B|0.00s|6.208|\n",
    "|pbzip2|nt_seq.fa|100 MB|nt_seq.fa.bz2|27.3 MB|15.91s|3.66|\n",
    "|pbzip2|gp120_HIVisolates.fa|6.05KB|gp120_HIVisolates.fa.bz2|998B|0.00s|6.208|\n",
    "|ArithmeticCompress|nt_seq.fa|100 MB|nt_seq.fa.art|25 MB|26.94s|4|\n",
    "|ArithmeticCompress|gp120_HIVisolates.fa|6.05KB|gp120_HIVisolates.fa.art|3.37KB|0.00s|1.795|"
   ]
  },
  {
   "cell_type": "markdown",
   "metadata": {},
   "source": [
    "## Estimate compression of 1000 terabytes"
   ]
  },
  {
   "cell_type": "markdown",
   "metadata": {},
   "source": [
    "**Given the benchmarking data you obtained in this lab, which algorithm do you propose to use for each type of data? Provide an estimate for the fraction of space you can save using your compression scheme. How much of a bonus do you anticipate receiving this year?**"
   ]
  },
  {
   "cell_type": "markdown",
   "metadata": {},
   "source": [
    "For the 80% re-sequencing of genomes and plasmids that are very similar to each other: \n",
    "Use **gzip**, the one uses DEFLATE (Huffman + Lempel-Ziv algo). As shown in the previous table, gzip performs the best job on compressing nucleotide datas that are similar to each other. There are so many mutual information between these similar genomes. Therefore gzip could be the best one here.     \n",
    "The ratio of before-after-gzip is 7.546 for gp120_HIVisolates.fa.    \n",
    "1000tb x (1tb/1024gb) x (1024mb/1gb) x (1024kb/1mb) x (1024b/1kb) x (1024bytes/1b) is about 8e+12 bits.        \n",
    "0.8 x (8 x 10 ^ 12) = 6.4 x 10 ^ 12           \n",
    "6.4 x (10 ^ 12) / 7.546 = 848131460376.3583 bits total for nucleotides     \n",
    "\n",
    "For the 10% completely random protein sequences:     \n",
    "Use **ArithmeticCompress**. The first table shows ArithmeticCompress compresses the randomly generated protein sequence the best (from 100MB to 54MB, which is 2:1). Therefore:     \n",
    "0.1 x (8 x 10 ^ 12) = 8 x 10 ^ 11 \n",
    "8 x (10 ^ 11) / 2 = 400000000000.0 bits total for aa \n",
    "\n",
    "For the last 10% binary images:     \n",
    "Use **bzip2**, the one that uses run-length coding. Run-length encoding compresses runs of identical pixels. Since the images are binary, we can use the 0-1 data sample previously generated. The worse case for binary image here is half 0 and 1. Bzip2 did not compress the data but saved time. Therefore:       \n",
    "0.1 x (8 x 10 ^ 12) = 800000000000 bits total for binary images     \n",
    "\n",
    "Total: 848131460376.3583 + 400000000000.0 + 800000000000 = 2048131460376.3584 bits       \n",
    "\n",
    "%saved = (before - after) / before\n",
    "((6.4 x (10 ^ 12)) - 2048131460376.3584) /  (6.4 x (10 ^ 12)) = 0.680 = 68%\n",
    "\n",
    "$50 x 68 = **3400-dollar bonus**  \n",
    "\n",
    "\n",
    "\n",
    "\n",
    "    \n"
   ]
  }
 ],
 "metadata": {
  "kernelspec": {
   "display_name": "Python 3",
   "language": "python",
   "name": "python3"
  },
  "language_info": {
   "codemirror_mode": {
    "name": "ipython",
    "version": 3
   },
   "file_extension": ".py",
   "mimetype": "text/x-python",
   "name": "python",
   "nbconvert_exporter": "python",
   "pygments_lexer": "ipython3",
   "version": "3.6.6"
  }
 },
 "nbformat": 4,
 "nbformat_minor": 2
}
