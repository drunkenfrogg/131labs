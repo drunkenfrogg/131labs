{
 "cells": [
  {
   "cell_type": "markdown",
   "metadata": {},
   "source": [
    "## Align the reads to the human genome     \n",
    "Map these reads to the human genome first to remove any contamination."
   ]
  },
  {
   "cell_type": "markdown",
   "metadata": {},
   "source": [
    "### **Terminal**     \n",
    "**bowtie2 -p 4 --very-fast --no-unal -x /data/hg19/hg19 -U /data/lab6/illumina_reads.fastq -S aligned_human.sam --un filtered.fastq**     \n",
    "\n",
    "\n",
    "-p 4: use 4 threads/cores to run Bowtie2    \n",
    "--very-fast: control the tradeoff between speed and sensitivity     \n",
    "--no-unal: not to report unaligned reads to save space in output file         \n",
    "\n",
    "input: 1) a bowtie2 database containing human genome, 2) a fastq file containing the illumina reads of the contaminated Shewanella oneidensis sequences.    \n",
    "\n",
    "output:1) a sam file containing the contamination (human sequence) which matches the human genome reference, 2) a fastq file containing unaligned reads (the filtered S.oneidensis sequence).\n"
   ]
  },
  {
   "cell_type": "markdown",
   "metadata": {},
   "source": [
    "**After running the command above, the terminal prints out:**     \n",
    "1124714 reads; of these:     \n",
    "  1124714 (100.00%) were unpaired; of these:     \n",
    "    1028379 (91.43%) aligned 0 times     \n",
    "    87274 (7.76%) aligned exactly 1 time      \n",
    "    9061 (0.81%) aligned >1 times      \n",
    "8.57% overall alignment rate"
   ]
  },
  {
   "cell_type": "markdown",
   "metadata": {},
   "source": [
    ">**How many reads map to humans?**    \n",
    "</Br>    \n",
    "There are total 1124714 reads, but only (1124714)(8.57%) = 96388 reads map to humans.     \n",
    "</Br>    \n",
    "**What will you use for the database? Input reads**          \n",
    "</Br>    \n",
    "I will use the human genome database for the database because we want to identify the hand-in human-contaminated shewanella oneidensis genome. The input reads I used is the lab-provided illumina_reads.fastq, which is contaminated.     \n",
    "</Br>    \n",
    "**If you use the --un unaligned.fastq option, what will unaligned.fastq contain?**   \n",
    "</Br>    \n",
    "The output in this run, unaligned.fastq, contains the filtered S. oneidensis genome. If I use the unaligned.fastq as the input read files and the human genome reference to run it again, the new unaligned.fastq will contain 0% human sequence. The terminal would print out a smaller number of alignment rate (approx. 0% aligned 0 times, approx. 0% aligned exactly 1 time, approx. 0% aligned > 1 times, and approx. 0% overall alignment rate). Since fastq is a text-based-format file that contains both nucleotide sequence alignments and their corresponding quality scores encoded in ASCII characters, the unaligned.fastq will contain the unaligned sequences and the their corresponding quality scores.   \n",
    "\n"
   ]
  },
  {
   "cell_type": "markdown",
   "metadata": {},
   "source": [
    "> **What percentage of your sequencing library came from contaminating human DNA?**     \n",
    "</Br>     \n",
    "7.76% of the nucleotides aligned exactly 1 time and 0.81% aligned more than 1 time. In other words, 8.57% total of the sequencing library came from contaminating human DNA.     \n"
   ]
  },
  {
   "cell_type": "markdown",
   "metadata": {},
   "source": [
    "## Align the reads to the S. oneidensis reference genome"
   ]
  },
  {
   "cell_type": "markdown",
   "metadata": {},
   "source": [
    "### Terminal    \n",
    "**bowtie2 -p 4 --very-fast --no-unal -x /data/lab6/shewanella_oneidensis_mr-1 -U filtered.fastq -S output.sam --un unaligned.fastq**   \n",
    "\n",
    "inputs: 1) a provided database containing S.oneidensis reference genome; 2) a fastq file containing the filtered (human contamination removed) sequences.     \n",
    "\n",
    "outputs: 1) a sam file containing the aligned sequence of our filtered sequence of S. oneidensis and the reference sequences; 2) a fastq file containing the unaligned sequences (deviate from the reference)."
   ]
  },
  {
   "cell_type": "markdown",
   "metadata": {},
   "source": [
    "**After running the command above, the terminal prints out:**    \n",
    "1028379 reads; of these:     \n",
    "  1028379 (100.00%) were unpaired; of these:     \n",
    "    299560 (29.13%) aligned 0 times     \n",
    "    687571 (66.86%) aligned exactly 1 time    \n",
    "    41248 (4.01%) aligned >1 times    \n",
    "70.87% overall alignment rate"
   ]
  },
  {
   "cell_type": "markdown",
   "metadata": {},
   "source": [
    "> **How many map to S. oneidensis?**    \n",
    "</Br>    \n",
    "There are total 1028379 reads, and (1028379)(70.87%) = 728812 reads map to S.oneidensis.     \n",
    "</Br>    \n",
    "**If you use the --un unaligned.fastq option, what will unaligned.fastq contain?**     \n",
    "</Br>    \n",
    "The unaligned.fastq output here contains sequences that does not match the S. oneidensis referece genome, which is 29.13% (aligned 0 times). If I use this unaligned.fastq and the S. oneidensis reference genome to run bowtie2 again, the new unaligned.fastq will have much lower percentage alignment because we compared the unwanted (other contaminations) sequence to the S.oneidensis reference genome. Since fastq is a text-based-format file that contains both nucleotide sequence alignments and their corresponding quality scores encoded in ASCII characters, the unaligned.fastq will contain the unaligned sequences and the their corresponding quality scores.    \n",
    "</Br>    \n",
    "**What percentage of your filtered library didn’t align to the reference genome? If you use --very- sensitive instead of --very-fast, does this percentage increase or decrease?**     \n",
    "</Br>    \n",
    "29.13% of the filtered library didn't align to the reference genome. If I use --very-senstive, the percentage will decrease because the program now will become more strict when checking the alignmentes and reject alignment with the low-quality ones, producing a more accurate result.\n"
   ]
  },
  {
   "cell_type": "markdown",
   "metadata": {},
   "source": [
    "## Generate a coverage plot"
   ]
  },
  {
   "cell_type": "markdown",
   "metadata": {},
   "source": [
    "### Terminal\n",
    "\n",
    "**samtools view -b output.sam > output.bam**    \n",
    "input: sam file; output: bam file (binary)\n",
    "\n",
    "**samtools view -F 4 output.bam**\n",
    "\n",
    "> **Result:**     \n",
    "read126646      0       AE014299.2      3561284 3       299M    *       0       0       ATAATACCTACCACTTACCTGAGCAATGAAATTGAATTAGTGGGTATTCTATCGGGATCTTGTGGAAAACTTAAAGTAAAGATAGGTAACTCAGGGGAAAGACGGTGCAGTTATCCCATCGAATATGGCCTGTTCTGGCTGGTAATACAAGTCTTTTCGACAAAGAATAACAAAAATTTAACTAAGCGAACAAAAAAAAAACGAACAATATCAAACCGGGAAAAAAATGAAAATAAAAAAACATTCTAAAAAACATAAATTGTTCATATTAAACCAAAAAAAACAAATAACAAGTTCGA    CCCCCCFE@EFDCGGGBEEFGGFFF?G@D<FFFGFGGGFGEEFCGGG9,<FGEED+@F?<FEFEFD9EFDC,@EFE;E99>==FC@;5==,CF8,A@BCFFFFC@CDGGCFFGF9EFE;:,@E@GF9BEEFEEF,=,,998>DDG,44C9,9,C,4,9+4++8D,@D,,7@,,6484,7,,,77@,3+866BDF,@8+5@C355@*>,,6,5,652***4*4=BFE*3++1++++5?2+3*3*0++3+03@+2*13++302++2+3++2+30<CF*2;*;*//*;8C+<++0+03<9**    AS:i:-125   XN:i:0   XM:i:42 XO:i:0  XG:i:0  NM:i:42    MD:Z:89A56T14C6C0C1C0G1G4G0T8T4T1T0C0C8G4G7T5G2T0G1T1T2C0T0C0T1G2T1T3G0G4G4G1A2C1G5G2G10G0A1G6       YT:Z:UU\n",
    "\n",
    "**samtools sort output.bam > output.sorted.bam**    \n",
    "input: bam file; output: a sorted bam file (sorts a bam file by coordinates)     \n",
    "\n",
    "**samtools index output.sorted.bam**     \n",
    "input:a sorted.bam file; output: output.sorted.bam.bai (with index)\n",
    "\n",
    "**samtools depth -a output.sorted.bam > pileup.tab**    \n",
    "input: a sorted bam file; output: tab file (a list of coordinates in a genome and the number of times a read aligned to that position)  \n"
   ]
  },
  {
   "cell_type": "markdown",
   "metadata": {},
   "source": [
    "### Codes"
   ]
  },
  {
   "cell_type": "markdown",
   "metadata": {},
   "source": [
    "***1. Import string and matplotlib packages.***"
   ]
  },
  {
   "cell_type": "code",
   "execution_count": 1,
   "metadata": {},
   "outputs": [],
   "source": [
    "import string\n",
    "import numpy as np\n",
    "from Bio.Blast import NCBIWWW\n",
    "from Bio.Blast import NCBIXML\n",
    "from Bio import SeqIO\n",
    "import matplotlib.pyplot as plt\n",
    "%matplotlib inline\n",
    "#Image('1.png')"
   ]
  },
  {
   "cell_type": "markdown",
   "metadata": {},
   "source": [
    "***2. Open .tab file in 'read' mode, assign the contents to variable `rawdata`.***    \n"
   ]
  },
  {
   "cell_type": "code",
   "execution_count": 2,
   "metadata": {},
   "outputs": [],
   "source": [
    "f = open('pileup.tab', 'r')\n",
    "rawdata = f.readlines()"
   ]
  },
  {
   "cell_type": "code",
   "execution_count": 38,
   "metadata": {},
   "outputs": [
    {
     "data": {
      "text/plain": [
       "['AE014299.2\\t1\\t0\\n',\n",
       " 'AE014299.2\\t2\\t1\\n',\n",
       " 'AE014299.2\\t3\\t2\\n',\n",
       " 'AE014299.2\\t4\\t2\\n',\n",
       " 'AE014299.2\\t5\\t2\\n']"
      ]
     },
     "execution_count": 38,
     "metadata": {},
     "output_type": "execute_result"
    }
   ],
   "source": [
    "rawdata[:5] # This just to show you what's inside 'rawdata'"
   ]
  },
  {
   "cell_type": "markdown",
   "metadata": {},
   "source": [
    "***3. Split the data by 'tab', store position and count into list `data`.***      \n",
    "1) Assign an empty list to `data`.     \n",
    "2) Loop through each line in \"rawdata\". \n",
    "\n",
    "For each line, use `split` to remove '\\t' (tab) and assign the splited line to `temp`. Then use `split` again to remove `\\n` and assign the splited item to `temp1`.              \n",
    "Assign the first and second number to `p`(position) and `c`(count) respectively.     \n",
    "Append [p, c] to `data`.       \n",
    "Empty `temp` and begin next loop.\n",
    "\n",
    "This produces a list of lists, as shown below."
   ]
  },
  {
   "cell_type": "code",
   "execution_count": 4,
   "metadata": {},
   "outputs": [],
   "source": [
    "data = []\n",
    "for i in range(len(rawdata)):\n",
    "    temp = rawdata[i].split(\"\\t\")\n",
    "    temp1 = temp[2].split(\"\\n\")\n",
    "    p = int(temp[1])\n",
    "    c = int(temp1[0])\n",
    "    data.append([p, c])\n",
    "    #data.append()"
   ]
  },
  {
   "cell_type": "code",
   "execution_count": 39,
   "metadata": {},
   "outputs": [
    {
     "data": {
      "text/plain": [
       "[[1, 0], [2, 1], [3, 2], [4, 2], [5, 2]]"
      ]
     },
     "execution_count": 39,
     "metadata": {},
     "output_type": "execute_result"
    }
   ],
   "source": [
    "data[:5] # This just to show you what's inside 'data'"
   ]
  },
  {
   "cell_type": "markdown",
   "metadata": {},
   "source": [
    "***4. Get the depth of coverage by accessing the second element of each 2-element-list in `data`. Print out the maximum, minimum, and mean of depth of coverage.***"
   ]
  },
  {
   "cell_type": "code",
   "execution_count": 6,
   "metadata": {},
   "outputs": [
    {
     "name": "stdout",
     "output_type": "stream",
     "text": [
      "maximum coverage is: 269\n",
      "minimum coverage is: 0\n",
      "mean coverage is: 36.955644792125895\n"
     ]
    }
   ],
   "source": [
    "depth = [d[1] for d in data]\n",
    "print(\"maximum coverage is: \" + str(max(depth)))\n",
    "print(\"minimum coverage is: \" + str(min(depth)))\n",
    "print(\"mean coverage is: \" + str(sum(depth)/len(depth)))"
   ]
  },
  {
   "cell_type": "markdown",
   "metadata": {},
   "source": [
    "> **What is the min, max, and mean coverage across all positions?**    \n",
    "</br>    \n",
    "As the calculation shown above, the minmum, maximum, and mean coverage across all positions are 269, 0, and 36.956 respectively.\n"
   ]
  },
  {
   "cell_type": "markdown",
   "metadata": {},
   "source": [
    "### Plots"
   ]
  },
  {
   "cell_type": "code",
   "execution_count": 7,
   "metadata": {},
   "outputs": [
    {
     "data": {
      "image/png": "[encoded data removed]",
      "text/plain": [
       "<Figure size 432x288 with 1 Axes>"
      ]
     },
     "metadata": {
      "needs_background": "light"
     },
     "output_type": "display_data"
    }
   ],
   "source": [
    "plt.plot(depth, color='red')\n",
    "plt.xlabel('Position in Genome')\n",
    "plt.ylabel('Depth of Coverage')\n",
    "plt.title('Genome Position vs Depth of Coverage')\n",
    "plt.show()"
   ]
  },
  {
   "cell_type": "code",
   "execution_count": 8,
   "metadata": {},
   "outputs": [
    {
     "data": {
      "image/png": "[encoded data removed]",
      "text/plain": [
       "<Figure size 432x288 with 1 Axes>"
      ]
     },
     "metadata": {
      "needs_background": "light"
     },
     "output_type": "display_data"
    }
   ],
   "source": [
    "plt.hist(depth, 80)\n",
    "plt.axis([0, 100, 0, 800000])\n",
    "plt.xlabel('Depth of Coverage')\n",
    "plt.ylabel('Count')\n",
    "plt.title('Distribution of Coverage Depth')\n",
    "plt.show()"
   ]
  },
  {
   "cell_type": "markdown",
   "metadata": {},
   "source": [
    "> **Do the reads cover the S. oneidensis genome uniformly?**    \n",
    "</Br>     \n",
    "No, because the graph 'Genome Position vs Depth of Coverage' shows that depth of coverage varies across the position in genome, and the counts in 'Distribution of Coverage Depth\" varies."
   ]
  },
  {
   "cell_type": "markdown",
   "metadata": {},
   "source": [
    "## Extra Credit 1"
   ]
  },
  {
   "cell_type": "markdown",
   "metadata": {},
   "source": [
    "## Terminal   \n",
    "\n",
    "**samtools view -b aligned_human.sam > jamie.bam**    \n",
    "input: sam file; output: bam file (binary)      \n",
    "\n",
    "**samtools sort jamie.bam > jamie.sorted.bam**    \n",
    "input: bam file; output: a sorted bam file (sorts a bam file by coordinates)     \n",
    "\n",
    "**samtools index jamie.sorted.bam**     \n",
    "input:a sorted.bam file; output: output.sorted.bam.bai (with index)\n",
    "\n",
    "**samtools depth jamie.sorted.bam > jamie.tab**    \n",
    "input: a sorted bam file; output: tab file (a list of coordinates in a genome and the number of times a read aligned to that position)   \n",
    "(Note that here I didn't use -a to record the unaligned, otherwise it creates a gb-sized tab file).\n"
   ]
  },
  {
   "cell_type": "markdown",
   "metadata": {},
   "source": [
    "### Codes"
   ]
  },
  {
   "cell_type": "markdown",
   "metadata": {},
   "source": [
    "***1. open `jamie.tab` and save it in `j`***"
   ]
  },
  {
   "cell_type": "code",
   "execution_count": 9,
   "metadata": {},
   "outputs": [],
   "source": [
    "j = open('jamie.tab', 'r')\n",
    "j_rawdata = j.readlines()"
   ]
  },
  {
   "cell_type": "markdown",
   "metadata": {},
   "source": [
    "***2. Use a for loop to access each line in rawdata and split each line by \"\\t\" and \"\\n\", save them in `temp` and `temp1` respectively. Then append the chromosome name, position `p`, and count `c` to a list named `j_data`.***"
   ]
  },
  {
   "cell_type": "code",
   "execution_count": 10,
   "metadata": {},
   "outputs": [],
   "source": [
    "j_data = []\n",
    "for i in range(len(j_rawdata)):\n",
    "    temp = j_rawdata[i].split(\"\\t\")\n",
    "    temp1 = temp[2].split(\"\\n\")\n",
    "    chromosome = temp[0]\n",
    "    p = int(temp[1])\n",
    "    c = int(temp1[0])\n",
    "    j_data.append([chromosome, p, c])"
   ]
  },
  {
   "cell_type": "markdown",
   "metadata": {},
   "source": [
    "***3. Create a dictionary named `j_chrom_len`. Use a loop to access each line in `j_data`. If the chromosome name is in the dictionary, then increase the count by 1, otherwise create a new dictionary key (the chromosome name) and start from 1. The value (a number) indicates the length of the chromosome.***"
   ]
  },
  {
   "cell_type": "code",
   "execution_count": 11,
   "metadata": {},
   "outputs": [],
   "source": [
    "j_chrom_len = {}\n",
    "for i in range(len(j_data)):\n",
    "    #j_data[i][0] is the chromosome name\n",
    "    if j_data[i][0] in j_chrom_len:\n",
    "        j_chrom_len[j_data[i][0]] += 1\n",
    "    else:\n",
    "        j_chrom_len[j_data[i][0]] = 1"
   ]
  },
  {
   "cell_type": "markdown",
   "metadata": {},
   "source": [
    "***4. Create a dictionary named j_chrom_depth. Use a loop to access each line in j_data. If the chromosome name is in the dictionary, then increase the value by the depth of coverage, otherwise create a new dictionary key (the chromosome name) and start from the first depth of coverage showed. The value indicates the total depth of that chromosome.***"
   ]
  },
  {
   "cell_type": "code",
   "execution_count": 12,
   "metadata": {},
   "outputs": [],
   "source": [
    "j_depth = {}\n",
    "for i in range(len(j_data)):\n",
    "    #j_data[i][0] is the chromosome name\n",
    "    #j_data[i][2] is the depth of coverage at that position\n",
    "    if j_data[i][0] in j_depth:\n",
    "        j_depth[j_data[i][0]] += j_data[i][2]\n",
    "    else:\n",
    "        j_depth[j_data[i][0]] = j_data[i][2]"
   ]
  },
  {
   "cell_type": "code",
   "execution_count": 13,
   "metadata": {},
   "outputs": [
    {
     "data": {
      "text/plain": [
       "dict_keys(['chr1', 'chr2', 'chr3', 'chr4', 'chr5', 'chr6', 'chr7', 'chr8', 'chr9', 'chr10', 'chr11', 'chr12', 'chr13', 'chr14', 'chr15', 'chr16', 'chr17', 'chr18', 'chr19', 'chr20', 'chr21', 'chr22', 'chrX', 'chrY', 'chr1_gl000191_random', 'chr1_gl000192_random', 'chr4_gl000193_random', 'chr4_gl000194_random', 'chr9_gl000199_random', 'chr9_gl000200_random', 'chr9_gl000201_random', 'chr11_gl000202_random', 'chrUn_gl000213', 'chrUn_gl000214', 'chrUn_gl000215', 'chrUn_gl000217', 'chrUn_gl000222', 'chrUn_gl000223', 'chrUn_gl000226', 'chrUn_gl000227', 'chrUn_gl000228', 'chrUn_gl000233', 'chrUn_gl000245', 'chrUn_gl000247'])"
      ]
     },
     "execution_count": 13,
     "metadata": {},
     "output_type": "execute_result"
    }
   ],
   "source": [
    "j_chrom_len.keys()"
   ]
  },
  {
   "cell_type": "markdown",
   "metadata": {},
   "source": [
    "***5. Since there are many unknown chromosomes in `j_chrom_len` and `j_depth`, I removed them from the dictionaries.***"
   ]
  },
  {
   "cell_type": "code",
   "execution_count": 14,
   "metadata": {},
   "outputs": [],
   "source": [
    "unknown = ['chr1_gl000191_random', 'chr1_gl000192_random', 'chr4_gl000193_random', 'chr4_gl000194_random', \n",
    "           'chr9_gl000199_random', 'chr9_gl000200_random', 'chr9_gl000201_random', \n",
    "           'chr11_gl000202_random', 'chrUn_gl000213', 'chrUn_gl000214', 'chrUn_gl000215', \n",
    "           'chrUn_gl000217', 'chrUn_gl000222', 'chrUn_gl000223', 'chrUn_gl000226', \n",
    "           'chrUn_gl000227', 'chrUn_gl000228', 'chrUn_gl000233', 'chrUn_gl000245', \n",
    "           'chrUn_gl000247']\n",
    "\n",
    "for i in range(len(unknown)):\n",
    "    temp = unknown[i] \n",
    "    j_chrom_len.pop(temp)\n",
    "    j_depth.pop(temp)"
   ]
  },
  {
   "cell_type": "markdown",
   "metadata": {},
   "source": [
    "***6. Use list comprehension to get the total depth and length of each chromosome. And use loop to divide the total depth by chromosome length for each chromosome.***"
   ]
  },
  {
   "cell_type": "code",
   "execution_count": 15,
   "metadata": {},
   "outputs": [],
   "source": [
    "d = [d for d in j_depth.values()]\n",
    "l = [l for l in j_chrom_len.values()]\n",
    "j_avg_depth = []\n",
    "for i in range(len(j_depth)):\n",
    "    j_avg_depth.append(d[i]/l[i])"
   ]
  },
  {
   "cell_type": "markdown",
   "metadata": {},
   "source": [
    "### Plots"
   ]
  },
  {
   "cell_type": "code",
   "execution_count": 16,
   "metadata": {
    "scrolled": true
   },
   "outputs": [
    {
     "data": {
      "image/png": "[encoded data removed]",
      "text/plain": [
       "<Figure size 432x288 with 1 Axes>"
      ]
     },
     "metadata": {
      "needs_background": "light"
     },
     "output_type": "display_data"
    }
   ],
   "source": [
    "key = [_ for _ in range(1, 23)] + ['X', 'Y']\n",
    "plt.plot(key, j_avg_depth, color='green')\n",
    "plt.xlabel('Chromosome')\n",
    "plt.ylabel('Average Depth of Coverage')\n",
    "plt.title('Average Depth of Jamie-s Chromosome')\n",
    "plt.show()"
   ]
  },
  {
   "cell_type": "code",
   "execution_count": 17,
   "metadata": {},
   "outputs": [
    {
     "data": {
      "image/png": "[encoded data removed]",
      "text/plain": [
       "<Figure size 432x288 with 1 Axes>"
      ]
     },
     "metadata": {
      "needs_background": "light"
     },
     "output_type": "display_data"
    }
   ],
   "source": [
    "plt.hist(j_avg_depth, 80)\n",
    "plt.xlabel('Average Depth of Coverage')\n",
    "plt.ylabel('Count')\n",
    "plt.title('Distribution of Average Depth of Jamie-s Chromosome')\n",
    "plt.show()"
   ]
  },
  {
   "cell_type": "code",
   "execution_count": 18,
   "metadata": {},
   "outputs": [
    {
     "name": "stdout",
     "output_type": "stream",
     "text": [
      "The total length of all Jamie-s X chromosome is: 1508504\n",
      "The total length of all Jamie-s Y chromosome is: 244099\n",
      "The ratio of Jamie-s total X and Y chromosome length is 6.179886029848545 : 1\n"
     ]
    }
   ],
   "source": [
    "print('The total length of all Jamie-s X chromosome is: ' + str(j_chrom_len['chrX']))\n",
    "print('The total length of all Jamie-s Y chromosome is: ' + str(j_chrom_len['chrY']))\n",
    "print('The ratio of Jamie-s total X and Y chromosome length is ' + \n",
    "      str(j_chrom_len['chrX'] / j_chrom_len['chrY']) +\n",
    "      ' : 1')"
   ]
  },
  {
   "cell_type": "markdown",
   "metadata": {},
   "source": [
    "> According to [ResearchGate](https://www.researchgate.net/figure/Relative-sizes-of-the-X-and-Y-chromosomes-in-human-H-sapiens-mouse-Mus-musculus_fig3_259723517), the ratio of the sizes of human X and Y chromosome is 155.3Mb : 59.4Mb, which is 2.61 : 1.       \n",
    "The ratio of Jamie-s total X and Y chromosome length is about 6 : 1.  Therefore, Jamie's biological sex is male, and possibly XXY male.\n"
   ]
  },
  {
   "cell_type": "markdown",
   "metadata": {},
   "source": [
    "## Extra Credit 2"
   ]
  },
  {
   "cell_type": "markdown",
   "metadata": {},
   "source": [
    "### Plot      \n",
    "**1. Use list comprehension to map all genome position, and plot.**"
   ]
  },
  {
   "cell_type": "code",
   "execution_count": 19,
   "metadata": {},
   "outputs": [
    {
     "data": {
      "text/plain": [
       "Text(0, 0.5, 'Depth of Coverage')"
      ]
     },
     "execution_count": 19,
     "metadata": {},
     "output_type": "execute_result"
    },
    {
     "data": {
      "image/png": "[encoded data removed]",
      "text/plain": [
       "<Figure size 432x288 with 1 Axes>"
      ]
     },
     "metadata": {
      "needs_background": "light"
     },
     "output_type": "display_data"
    }
   ],
   "source": [
    "j_all_depths = [j[2] for j in j_data]\n",
    "plt.plot(j_all_depths, color='purple')\n",
    "plt.title('jamie-s Genome Position vs Depth of Coverage')\n",
    "plt.xlabel('Genome Position')\n",
    "plt.ylabel('Depth of Coverage')"
   ]
  },
  {
   "cell_type": "markdown",
   "metadata": {},
   "source": [
    "The \"jamie-s Genome Position vs. Depth of Coverage\" Plot (the purple one) above shows that the regions near 1.3e7, 2e7, and 2.8e7 region has higher average of coverage than the rest. Therefore, I will zoom in the first four peaks."
   ]
  },
  {
   "cell_type": "markdown",
   "metadata": {},
   "source": [
    "**2. Once identified the regions, get the region name, position, (and its depth just to double-check whether the position has the highest depth).**"
   ]
  },
  {
   "cell_type": "code",
   "execution_count": 40,
   "metadata": {},
   "outputs": [
    {
     "data": {
      "text/plain": [
       "[['chr7', 84306892, 2],\n",
       " ['chr7', 84306893, 2],\n",
       " ['chr7', 84306894, 2],\n",
       " ['chr7', 84306895, 2],\n",
       " ['chr7', 84306896, 2]]"
      ]
     },
     "execution_count": 40,
     "metadata": {},
     "output_type": "execute_result"
    }
   ],
   "source": [
    "zoomin = [[d[0], d[1], d[2]] for d in j_data if d[2] > 1]\n",
    "zoomin[0:5] #demo"
   ]
  },
  {
   "cell_type": "markdown",
   "metadata": {},
   "source": [
    "**3. Categorize the previous data, get the chromosome name, the start position, and end position.**"
   ]
  },
  {
   "cell_type": "code",
   "execution_count": 21,
   "metadata": {},
   "outputs": [
    {
     "data": {
      "text/plain": [
       "['chr7', 'chr12', 'chr15', 'chr16', 'chrY']"
      ]
     },
     "execution_count": 21,
     "metadata": {},
     "output_type": "execute_result"
    }
   ],
   "source": [
    "zoomin_chr = []\n",
    "for i in zoomin:\n",
    "    if i[0] not in zoomin_chr:\n",
    "        zoomin_chr += [i[0]]  \n",
    "zoomin_chr"
   ]
  },
  {
   "cell_type": "code",
   "execution_count": 22,
   "metadata": {},
   "outputs": [
    {
     "data": {
      "text/plain": [
       "[['chr7', 84306892, 84306946],\n",
       " ['chr12', 45285619, 45285688],\n",
       " ['chr15', 30510261, 34689019],\n",
       " ['chr16', 33097974, 33098090],\n",
       " ['chrY', 18485047, 27170464]]"
      ]
     },
     "execution_count": 22,
     "metadata": {},
     "output_type": "execute_result"
    }
   ],
   "source": [
    "zoomin_chr_range=[]\n",
    "for z in zoomin_chr:\n",
    "    p = [i[1]for i in zoomin if i[0]==z]\n",
    "    temp = [z, min(p), max(p)]\n",
    "    zoomin_chr_range.append(temp)\n",
    "zoomin_chr_range"
   ]
  },
  {
   "cell_type": "markdown",
   "metadata": {},
   "source": [
    "These are the regions I am going to extract the genes from. In the interest of saving time, I will choose the 2 shorter regions to blast: chr7, chr12"
   ]
  },
  {
   "cell_type": "markdown",
   "metadata": {},
   "source": [
    "**4. Create a bam file that only has the sequences in those regions, and convert to fastq files for BLAST**"
   ]
  },
  {
   "cell_type": "markdown",
   "metadata": {},
   "source": [
    "## Terminal: \n",
    "### Extract regions from jamie.sorted.bam\n",
    "**samtools view -b jamie.sorted.bam chr7:84306892-84306946 > chr7.bam**     \n",
    "**samtools view -b jamie.sorted.bam chr12:45285619-45285688 > chr12.bam**        \n",
    "input: a sorted bam file containing Jamie's sequence    \n",
    "output: bam files containing Jamie's sequences at specific regions.\n",
    "\n",
    "### Convert the newly created bam files to fastq files      \n",
    "**samtools bam2fq chr7.bam > chr7.fastq**    \n",
    "**samtools bam2fq chr12.bam > chr12.fastq**    \n",
    "input: a bam file containing Jamie's sequence    \n",
    "output: fastq files containing Jamie's Jamie's sequences at specific regions."
   ]
  },
  {
   "cell_type": "markdown",
   "metadata": {},
   "source": [
    "**5. Read all fastq files, get the sequences**"
   ]
  },
  {
   "cell_type": "code",
   "execution_count": 23,
   "metadata": {},
   "outputs": [
    {
     "data": {
      "text/plain": [
       "[Seq('AAGCAAATAGATAATAGACTGACTAGATGAAAGCATTTTTATCTACCCAACCTT...GTA', SingleLetterAlphabet()),\n",
       " Seq('TTGTGCTTTGGCAACATTTGTTGTTGTTTGTGAATCACAGCTATGTTCAGTGGT...AAC', SingleLetterAlphabet()),\n",
       " Seq('TTATTTGTAACACTGATTTTTTTTCCTCCTGTGGGTCATGATTCTGTATAGAAA...TGC', SingleLetterAlphabet()),\n",
       " Seq('AATTGGGTAGAATATGGTTCCATCCCCTGCCTTGAGAGGATCTCAGAACAATAT...CCT', SingleLetterAlphabet())]"
      ]
     },
     "execution_count": 23,
     "metadata": {},
     "output_type": "execute_result"
    }
   ],
   "source": [
    "seqs=[]\n",
    "for file in ([\"chr7.fastq\", \"chr12.fastq\"]):\n",
    "    for r in SeqIO.parse(file, \"fastq\"):\n",
    "        seqs.append(r.seq)  \n",
    "seqs"
   ]
  },
  {
   "cell_type": "markdown",
   "metadata": {},
   "source": [
    "**6. Run qblast for all the sequences above. Get the accession numbers and the information of the proteins.**    \n",
    "Since there are so many blast results, I only chose the top 4."
   ]
  },
  {
   "cell_type": "code",
   "execution_count": 36,
   "metadata": {},
   "outputs": [
    {
     "name": "stdout",
     "output_type": "stream",
     "text": [
      "  <Hit_id>gi|16418283|gb|AC092022.5|</Hit_id>\n",
      "  <Hit_def>Homo sapiens BAC clone RP11-750F10 from 7, complete sequence</Hit_def>\n",
      "  <Hit_id>gi|38524746|gb|AC146156.2|</Hit_id>\n",
      "  <Hit_def>Pan troglodytes BAC clone RP43-1P23 from chromosome 7, complete sequence</Hit_def>\n",
      "  <Hit_id>gi|38524750|gb|AC145865.2|</Hit_id>\n",
      "  <Hit_def>Pan troglodytes BAC clone RP43-20N5 from chromosome 7, complete sequence</Hit_def>\n",
      "  <Hit_id>gi|38524728|gb|AC147039.2|</Hit_id>\n",
      "  <Hit_def>Pan troglodytes BAC clone RP43-117G22 from chromosome 7, complete sequence</Hit_def>\n",
      "  <Hit_id>gi|987976949|emb|LT160002.1|</Hit_id>\n",
      "  <Hit_def>Macaca fascicularis complete genome, chromosome chr3</Hit_def>\n",
      "  <Hit_id>gi|850481938|gb|CP011889.1|</Hit_id>\n",
      "  <Hit_def>Ovis canadensis canadensis isolate 43U chromosome 4 sequence</Hit_def>\n",
      "  <Hit_id>gi|1370130508|gb|CP028094.1|</Hit_id>\n",
      "  <Hit_def>Synechocystis sp. IPPAS B-1465 chromosome, complete genome</Hit_def>\n",
      "  <Hit_id>gi|1353793167|gb|CP027077.1|</Hit_id>\n",
      "  <Hit_def>Bos mutus isolate yakQH1 chromosome 9</Hit_def>\n",
      "  <Hit_id>gi|1241243895|gb|CP023173.1|</Hit_id>\n",
      "  <Hit_def>Mesoplasma chauliocola strain CHPA-2 chromosome, complete genome</Hit_def>\n",
      "  <Hit_id>gi|1220479425|gb|CP020641.1|</Hit_id>\n",
      "  <Hit_def>Oryzias latipes strain HSOK chromosome 21</Hit_def>\n",
      "  <Hit_id>gi|1137482757|ref|XM_010902349.2|</Hit_id>\n",
      "  <Hit_def>PREDICTED: Esox lucius dynactin subunit 4 (dctn4), transcript variant X2, mRNA</Hit_def>\n",
      "  <Hit_id>gi|1137482756|ref|XM_010902347.2|</Hit_id>\n",
      "  <Hit_def>PREDICTED: Esox lucius dynactin subunit 4 (dctn4), transcript variant X1, mRNA</Hit_def>\n",
      "  <Hit_id>gi|939195038|gb|CP012832.1|</Hit_id>\n",
      "  <Hit_def>Synechocystis sp. PCC 6803 substrain GT-G, complete genome</Hit_def>\n",
      "  <Hit_id>gi|840010732|emb|LK064705.1|</Hit_id>\n",
      "  <Hit_def>Apteryx australis mantelli genome assembly AptMant0, scaffold scaffold50</Hit_def>\n",
      "  <Hit_id>gi|657535813|ref|XM_008276366.1|</Hit_id>\n",
      "  <Hit_def>PREDICTED: Stegastes partitus kinase suppressor of Ras 1-like (LOC103353398), transcript variant X4, mRNA</Hit_def>\n",
      "  <Hit_id>gi|657535810|ref|XM_008276365.1|</Hit_id>\n",
      "  <Hit_def>PREDICTED: Stegastes partitus kinase suppressor of Ras 1-like (LOC103353398), transcript variant X3, mRNA</Hit_def>\n",
      "  <Hit_id>gi|657535806|ref|XM_008276364.1|</Hit_id>\n",
      "  <Hit_def>PREDICTED: Stegastes partitus kinase suppressor of Ras 1-like (LOC103353398), transcript variant X2, mRNA</Hit_def>\n",
      "  <Hit_id>gi|657535803|ref|XM_008276363.1|</Hit_id>\n",
      "  <Hit_def>PREDICTED: Stegastes partitus kinase suppressor of Ras 1-like (LOC103353398), transcript variant X1, mRNA</Hit_def>\n",
      "  <Hit_id>gi|451779298|gb|CP003265.1|</Hit_id>\n",
      "  <Hit_def>Synechocystis sp. PCC 6803, complete genome</Hit_def>\n",
      "  <Hit_id>gi|407955691|dbj|AP012495.1|</Hit_id>\n",
      "  <Hit_def>Bacillus subtilis BEST7613 DNA, complete genome</Hit_def>\n",
      "  <Hit_id>gi|359276570|dbj|AP012278.1|</Hit_id>\n",
      "  <Hit_def>Synechocystis sp. PCC 6803 substr. PCC-P DNA, complete genome</Hit_def>\n",
      "  <Hit_id>gi|359273400|dbj|AP012277.1|</Hit_id>\n",
      "  <Hit_def>Synechocystis sp. PCC 6803 substr. PCC-N DNA, complete genome</Hit_def>\n",
      "  <Hit_id>gi|359270229|dbj|AP012276.1|</Hit_id>\n",
      "  <Hit_def>Synechocystis sp. PCC 6803 substr. GT-I DNA, complete genome</Hit_def>\n",
      "  <Hit_id>gi|339272262|dbj|AP012205.1|</Hit_id>\n",
      "  <Hit_def>Synechocystis sp. PCC 6803 DNA, complete genome, strain: GT-S</Hit_def>\n",
      "  <Hit_id>gi|47118304|dbj|BA000022.2|</Hit_id>\n",
      "  <Hit_def>Synechocystis sp. PCC 6803 DNA, complete genome</Hit_def>\n",
      "  <Hit_id>gi|1432940805|gb|CP031011.1|</Hit_id>\n",
      "  <Hit_def>Acinetobacter johnsonii strain LXL_C1 chromosome, complete genome</Hit_def>\n",
      "  <Hit_id>gi|1395223848|gb|CP026243.1|</Hit_id>\n",
      "  <Hit_def>Scophthalmus maximus chromosome 1</Hit_def>\n",
      "  <Hit_id>gi|1220465028|gb|CP020667.1|</Hit_id>\n",
      "  <Hit_def>Oryzias latipes strain Hd-rR chromosome 3 sequence</Hit_def>\n",
      "  <Hit_id>gi|1056736033|tpe|HF933209.1|</Hit_id>\n",
      "  <Hit_def>TPA_asm: Oryzias latipes strain Hd-rR, complete genome assembly, chromosome 3</Hit_def>\n",
      "  <Hit_id>gi|1046311160|gb|CP016502.1|</Hit_id>\n",
      "  <Hit_def>Ruminiclostridium thermocellum DSM 2360, complete genome</Hit_def>\n",
      "  <Hit_id>gi|1029201580|ref|NG_050651.1|</Hit_id>\n",
      "  <Hit_def>Homo sapiens ATP binding cassette subfamily C member 4 (ABCC4), RefSeqGene on chromosome 13</Hit_def>\n",
      "  <Hit_id>gi|984110441|ref|XM_015491180.1|</Hit_id>\n",
      "  <Hit_def>PREDICTED: Marmota marmota marmota retinoblastoma binding protein 6 (Rbbp6), transcript variant X2, mRNA</Hit_def>\n",
      "  <Hit_id>gi|984110439|ref|XM_015491179.1|</Hit_id>\n",
      "  <Hit_def>PREDICTED: Marmota marmota marmota retinoblastoma binding protein 6 (Rbbp6), transcript variant X1, mRNA</Hit_def>\n",
      "  <Hit_id>gi|973197794|gb|CP013828.1|</Hit_id>\n",
      "  <Hit_def>Ruminiclostridium thermocellum AD2, complete genome</Hit_def>\n",
      "  <Hit_id>gi|929417582|ref|XM_005518805.2|</Hit_id>\n",
      "  <Hit_def>PREDICTED: Pseudopodoces humilis Bet1 golgi vesicular membrane trafficking protein (BET1), mRNA</Hit_def>\n",
      "  <Hit_id>gi|924557822|gb|CP012525.1|</Hit_id>\n",
      "  <Hit_def>Drosophila busckii chromosome 3L sequence</Hit_def>\n",
      "  <Hit_id>gi|840011360|emb|LK064742.1|</Hit_id>\n",
      "  <Hit_def>Apteryx australis mantelli genome assembly AptMant0, scaffold scaffold172</Hit_def>\n",
      "  <Hit_id>gi|828192768|ref|XM_002155171.3|</Hit_id>\n",
      "  <Hit_def>PREDICTED: Hydra vulgaris DEAD-box ATP-dependent RNA helicase 39-like (LOC100205532), transcript variant X1, mRNA</Hit_def>\n",
      "  <Hit_id>gi|728874753|gb|CP009552.1|</Hit_id>\n",
      "  <Hit_def>Geoglobus acetivorans strain SBH6, complete genome</Hit_def>\n",
      "  <Hit_id>gi|694672537|ref|XM_009491587.1|</Hit_id>\n",
      "  <Hit_def>PREDICTED: Pelecanus crispus phenylalanine hydroxylase (PAH), mRNA</Hit_def>\n",
      "  <Hit_id>gi|608604908|gb|KJ194814.1|</Hit_id>\n",
      "  <Hit_def>HIV-1 isolate F1_DU2922bh_2013 from Romania pol protein (pol) gene, partial cds</Hit_def>\n",
      "  <Hit_id>gi|608604886|gb|KJ194803.1|</Hit_id>\n",
      "  <Hit_def>HIV-1 isolate F1_DU1903_2012 from Romania pol protein (pol) gene, partial cds</Hit_def>\n",
      "  <Hit_id>gi|550593778|emb|HG529937.1|</Hit_id>\n",
      "  <Hit_def>HIV-1 M:CRF06_cpx partial pol gene for polyprotein, protease and partial reverse transcriptase region, isolate SR047-273-23</Hit_def>\n",
      "  <Hit_id>gi|428262251|gb|CP003643.1|</Hit_id>\n",
      "  <Hit_def>Cylindrospermum stagnale PCC 7417 plasmid pCYLST.01, partial sequence</Hit_def>\n",
      "  <Hit_id>gi|400362977|gb|CP003544.1|</Hit_id>\n",
      "  <Hit_def>Candidatus Carsonella ruddii HT isolate Thao2000, complete genome</Hit_def>\n",
      "  <Hit_id>gi|316939066|gb|CP002416.1|</Hit_id>\n",
      "  <Hit_def>Hungateiclostridium thermocellum DSM 1313 chromosome, complete genome</Hit_def>\n",
      "  <Hit_id>gi|283945677|gb|AC239611.1|</Hit_id>\n",
      "  <Hit_def>Callorhinchus milii BAC clone IMCB_Eshark-75H12 from chromosome unknown, complete sequence</Hit_def>\n",
      "  <Hit_id>gi|125712750|gb|CP000568.1|</Hit_id>\n",
      "  <Hit_def>Hungateiclostridium thermocellum ATCC 27405 chromosome, complete genome</Hit_def>\n",
      "  <Hit_id>gi|51233554|gb|AC118201.8|</Hit_id>\n",
      "  <Hit_def>Mus musculus chromosome 7, clone RP23-339M11, complete sequence</Hit_def>\n",
      "  <Hit_id>gi|16413677|emb|AL596168.1|</Hit_id>\n",
      "  <Hit_def>Listeria innocua Clip11262 complete genome, segment 6/12</Hit_def>\n",
      "  <Hit_id>gi|16418283|gb|AC092022.5|</Hit_id>\n",
      "  <Hit_def>Homo sapiens BAC clone RP11-750F10 from 7, complete sequence</Hit_def>\n",
      "  <Hit_id>gi|38524746|gb|AC146156.2|</Hit_id>\n",
      "  <Hit_def>Pan troglodytes BAC clone RP43-1P23 from chromosome 7, complete sequence</Hit_def>\n",
      "  <Hit_id>gi|38524750|gb|AC145865.2|</Hit_id>\n",
      "  <Hit_def>Pan troglodytes BAC clone RP43-20N5 from chromosome 7, complete sequence</Hit_def>\n",
      "  <Hit_id>gi|38524728|gb|AC147039.2|</Hit_id>\n",
      "  <Hit_def>Pan troglodytes BAC clone RP43-117G22 from chromosome 7, complete sequence</Hit_def>\n",
      "  <Hit_id>gi|987976949|emb|LT160002.1|</Hit_id>\n",
      "  <Hit_def>Macaca fascicularis complete genome, chromosome chr3</Hit_def>\n",
      "  <Hit_id>gi|1353793162|gb|CP027072.1|</Hit_id>\n",
      "  <Hit_def>Bos mutus isolate yakQH1 chromosome 4</Hit_def>\n",
      "  <Hit_id>gi|850481938|gb|CP011889.1|</Hit_id>\n",
      "  <Hit_def>Ovis canadensis canadensis isolate 43U chromosome 4 sequence</Hit_def>\n",
      "  <Hit_id>gi|202070639|gb|AC232575.1|</Hit_id>\n",
      "  <Hit_def>Brassica rapa subsp. pekinensis clone KBrS010A05, complete sequence</Hit_def>\n",
      "  <Hit_id>gi|1239725809|gb|CP023120.1|</Hit_id>\n",
      "  <Hit_def>Lupinus angustifolius cultivar Tanjil chromosome LG-08</Hit_def>\n",
      "  <Hit_id>gi|937513727|gb|CP012850.1|</Hit_id>\n",
      "  <Hit_def>Candidatus Nitrocosmicus oleophilus strain MY3, complete genome</Hit_def>\n",
      "  <Hit_id>gi|1169073882|gb|KY779617.1|</Hit_id>\n",
      "  <Hit_def>Homo sapiens clone GAP_IR4_Yp genomic sequence</Hit_def>\n",
      "  <Hit_id>gi|939468805|gb|KT779115.1|</Hit_id>\n",
      "  <Hit_def>Pyrophorus punctatissimus isolate VhcPyroP01 tRNA-Ile and 12S ribosomal RNA genes, partial sequence; mitochondrial</Hit_def>\n",
      "  <Hit_id>gi|23334773|gb|AC127035.6|</Hit_id>\n",
      "  <Hit_def>Homo sapiens chromosome 11, clone CTD-2117H17, complete sequence</Hit_def>\n",
      "  <Hit_id>gi|10242461|gb|AC079126.3|AC079126</Hit_id>\n",
      "  <Hit_def>Homo sapiens BAC clone CTB-45E23 from Y, complete sequence</Hit_def>\n",
      "  <Hit_id>gi|9581964|gb|AC068719.3|AC068719</Hit_id>\n",
      "  <Hit_def>Homo sapiens BAC clone RP11-403P11 from Y, complete sequence</Hit_def>\n",
      "  <Hit_id>gi|1273855540|gb|CP023762.1|</Hit_id>\n",
      "  <Hit_def>Solanum lycopersicum cultivar I-3 chromosome 6</Hit_def>\n",
      "  <Hit_id>gi|1243416812|gb|CP023337.1|</Hit_id>\n",
      "  <Hit_def>Drosophila melanogaster strain rover (forR) chromosome 3L</Hit_def>\n",
      "  <Hit_id>gi|1243416745|gb|CP023331.1|</Hit_id>\n",
      "  <Hit_def>Drosophila melanogaster strain sitter (fors) chromosome 3L</Hit_def>\n",
      "  <Hit_id>gi|1220479412|gb|CP020628.1|</Hit_id>\n",
      "  <Hit_def>Oryzias latipes strain HSOK chromosome 8</Hit_def>\n",
      "  <Hit_id>gi|1220469776|gb|CP020790.1|</Hit_id>\n",
      "  <Hit_def>Oryzias latipes strain HNI chromosome 12</Hit_def>\n",
      "  <Hit_id>gi|1220469772|gb|CP020786.1|</Hit_id>\n",
      "  <Hit_def>Oryzias latipes strain HNI chromosome 8</Hit_def>\n",
      "  <Hit_id>gi|1220465043|gb|CP020672.1|</Hit_id>\n",
      "  <Hit_def>Oryzias latipes strain Hd-rR chromosome 8 sequence</Hit_def>\n",
      "  <Hit_id>gi|1056739001|tpe|HF933214.1|</Hit_id>\n",
      "  <Hit_def>TPA_asm: Oryzias latipes strain Hd-rR, complete genome assembly, chromosome 8</Hit_def>\n",
      "  <Hit_id>gi|1048222522|gb|KU866087.1|</Hit_id>\n",
      "  <Hit_def>Pantherophis guttatus cyclic AMP-dependent transcription factor ATF-2 (Atf2) and ATP synthase H+ transporting mitochondrial F0 complex subunit C3 (Atp5g3) genes, complete cds; lunapark (Lnp) gene, partial cds; even-skipped homeobox 2 (Evx2), Hoxd13 (Hoxd13), Hoxd11 (Hoxd11), Hoxd10 (Hoxd10), and Hoxd9 (Hoxd9) genes, complete cds; Hoxd8 (Hoxd8) gene, partial cds; and Hoxd4 (Hoxd4), Hoxd3 (Hoxd3), Hoxd1 (Hoxd1), and Mtx2 (Mtx2) genes, complete cds</Hit_def>\n",
      "  <Hit_id>gi|924557822|gb|CP012525.1|</Hit_id>\n",
      "  <Hit_def>Drosophila busckii chromosome 3L sequence</Hit_def>\n",
      "  <Hit_id>gi|850485665|gb|CP011894.1|</Hit_id>\n",
      "  <Hit_def>Ovis canadensis canadensis isolate 43U chromosome 9 sequence</Hit_def>\n",
      "  <Hit_id>gi|840010732|emb|LK064705.1|</Hit_id>\n",
      "  <Hit_def>Apteryx australis mantelli genome assembly AptMant0, scaffold scaffold50</Hit_def>\n",
      "  <Hit_id>gi|686555520|gb|CP009287.1|</Hit_id>\n",
      "  <Hit_def>Paenibacillus graminis strain DSM 15220, complete genome</Hit_def>\n",
      "  <Hit_id>gi|667677299|gb|AE014296.5|</Hit_id>\n",
      "  <Hit_def>Drosophila melanogaster chromosome 3L</Hit_def>\n",
      "  <Hit_id>gi|663681072|emb|HG975518.1|</Hit_id>\n",
      "  <Hit_def>Solanum lycopersicum chromosome ch06, complete genome</Hit_def>\n",
      "  <Hit_id>gi|663673444|emb|HG975445.1|</Hit_id>\n",
      "  <Hit_def>Solanum pennellii chromosome ch06, complete genome</Hit_def>\n",
      "  <Hit_id>gi|400362977|gb|CP003544.1|</Hit_id>\n",
      "  <Hit_def>Candidatus Carsonella ruddii HT isolate Thao2000, complete genome</Hit_def>\n",
      "  <Hit_id>gi|283945677|gb|AC239611.1|</Hit_id>\n",
      "  <Hit_def>Callorhinchus milii BAC clone IMCB_Eshark-75H12 from chromosome unknown, complete sequence</Hit_def>\n",
      "  <Hit_id>gi|4731050|gb|AC005720.6|AC005720</Hit_id>\n",
      "  <Hit_def>Drosophila melanogaster, chromosome 3L, region 79F1-80A2, BAC clone BACR48E05, complete sequence</Hit_def>\n"
     ]
    },
    {
     "name": "stdout",
     "output_type": "stream",
     "text": [
      "  <Hit_id>gi|11496309|gb|AC079033.12|</Hit_id>\n",
      "  <Hit_def>Homo sapiens 12 BAC RP11-453L7 (Roswell Park Cancer Institute Human BAC Library) complete sequence</Hit_def>\n",
      "  <Hit_id>gi|1477771519|gb|CP025646.1|</Hit_id>\n",
      "  <Hit_def>Ipomoea trifida cultivar NCNSP0306 chromosome 3</Hit_def>\n",
      "  <Hit_id>gi|850485665|gb|CP011894.1|</Hit_id>\n",
      "  <Hit_def>Ovis canadensis canadensis isolate 43U chromosome 9 sequence</Hit_def>\n",
      "  <Hit_id>gi|1353793177|gb|CP027087.1|</Hit_id>\n",
      "  <Hit_def>Bos mutus isolate yakQH1 chromosome 19</Hit_def>\n",
      "  <Hit_id>gi|1189419121|gb|CP018163.1|</Hit_id>\n",
      "  <Hit_def>Oryza sativa Indica Group cultivar Shuhui498 chromosome 7 sequence</Hit_def>\n",
      "  <Hit_id>gi|937924750|dbj|AP014963.1|</Hit_id>\n",
      "  <Hit_def>Oryza sativa Japonica Group DNA, chromosome 7, cultivar: Nipponbare, complete sequence</Hit_def>\n",
      "  <Hit_id>gi|932283106|gb|CP012615.1|</Hit_id>\n",
      "  <Hit_def>Oryza sativa Indica Group cultivar RP Bio-226 chromosome 7 sequence</Hit_def>\n",
      "  <Hit_id>gi|699034075|emb|HG970334.1|</Hit_id>\n",
      "  <Hit_def>Fusarium graminearum chromosome 3, complete genome</Hit_def>\n",
      "  <Hit_id>gi|34393496|dbj|AP003804.3|</Hit_id>\n",
      "  <Hit_def>Oryza sativa Japonica Group genomic DNA, chromosome 7, BAC clone:OJ1065_B06</Hit_def>\n",
      "  <Hit_id>gi|1450435195|emb|LS992087.1|</Hit_id>\n",
      "  <Hit_def>Triticum aestivum genome assembly, chromosome: 3B</Hit_def>\n",
      "  <Hit_id>gi|1353793168|gb|CP027078.1|</Hit_id>\n",
      "  <Hit_def>Bos mutus isolate yakQH1 chromosome 10</Hit_def>\n",
      "  <Hit_id>gi|1353793164|gb|CP027074.1|</Hit_id>\n",
      "  <Hit_def>Bos mutus isolate yakQH1 chromosome 6</Hit_def>\n",
      "  <Hit_id>gi|1239725821|gb|CP023127.1|</Hit_id>\n",
      "  <Hit_def>Lupinus angustifolius cultivar Tanjil chromosome LG-15</Hit_def>\n",
      "  <Hit_id>gi|1187590220|ref|XM_020892185.1|</Hit_id>\n",
      "  <Hit_def>PREDICTED: Odocoileus virginianus texanus transmembrane protein 165 (TMEM165), mRNA</Hit_def>\n",
      "  <Hit_id>gi|1187530113|ref|XR_002314437.1|</Hit_id>\n",
      "  <Hit_def>PREDICTED: Odocoileus virginianus texanus transmembrane protein 165 pseudogene (LOC110139209), misc_RNA</Hit_def>\n",
      "  <Hit_id>gi|1131284366|ref|XM_019962776.1|</Hit_id>\n",
      "  <Hit_def>PREDICTED: Bos indicus transmembrane protein 165 (TMEM165), mRNA</Hit_def>\n",
      "  <Hit_id>gi|942064132|ref|XM_005899060.2|</Hit_id>\n",
      "  <Hit_def>PREDICTED: Bos mutus transmembrane protein 165 (TMEM165), mRNA</Hit_def>\n",
      "  <Hit_id>gi|850484816|gb|CP011892.1|</Hit_id>\n",
      "  <Hit_def>Ovis canadensis canadensis isolate 43U chromosome 7 sequence</Hit_def>\n",
      "  <Hit_id>gi|669026884|emb|HG670306.1|</Hit_id>\n",
      "  <Hit_def>Triticum aestivum chromosome 3B, genomic scaffold, cultivar Chinese Spring</Hit_def>\n",
      "  <Hit_id>gi|556732097|ref|XM_005961660.1|</Hit_id>\n",
      "  <Hit_def>PREDICTED: Pantholops hodgsonii transmembrane protein 165 (TMEM165), mRNA</Hit_def>\n",
      "  <Hit_id>gi|329664685|ref|NM_001206006.1|</Hit_id>\n",
      "  <Hit_def>Bos taurus transmembrane protein 165 (TMEM165), mRNA</Hit_def>\n",
      "  <Hit_id>gi|194272295|gb|AC210375.3|</Hit_id>\n",
      "  <Hit_def>Pongo abelii BAC clone CH276-149G11 from chromosome unknown, complete sequence</Hit_def>\n",
      "  <Hit_id>gi|55831596|gb|AC151789.1|</Hit_id>\n",
      "  <Hit_def>Ornithorhynchus anatinus chromosome UNK clone OABb-148A1, complete sequence</Hit_def>\n",
      "  <Hit_id>gi|21637505|gb|AC105179.6|</Hit_id>\n",
      "  <Hit_def>Homo sapiens chromosome 11, clone RP11-124M12, complete sequence</Hit_def>\n",
      "  <Hit_id>gi|1477772556|gb|CP025672.1|</Hit_id>\n",
      "  <Hit_def>Ipomoea triloba cultivar NCNSP0323 chromosome 13</Hit_def>\n",
      "  <Hit_id>gi|1450435210|emb|LS992100.1|</Hit_id>\n",
      "  <Hit_def>Triticum aestivum genome assembly, chromosome: 7D</Hit_def>\n",
      "  <Hit_id>gi|1435344480|ref|XM_025976005.1|</Hit_id>\n",
      "  <Hit_def>PREDICTED: Agrilus planipennis neuronal acetylcholine receptor subunit alpha-3-like (LOC108736658), mRNA</Hit_def>\n",
      "  <Hit_id>gi|1376261545|ref|XM_024658323.1|</Hit_id>\n",
      "  <Hit_def>Cryptococcus neoformans var. neoformans JEC21 conserved hypothetical protein (CNM01920), mRNA</Hit_def>\n",
      "  <Hit_id>gi|1353793185|gb|CP027095.1|</Hit_id>\n",
      "  <Hit_def>Bos mutus isolate yakQH1 chromosome 27</Hit_def>\n",
      "  <Hit_id>gi|1353793162|gb|CP027072.1|</Hit_id>\n",
      "  <Hit_def>Bos mutus isolate yakQH1 chromosome 4</Hit_def>\n",
      "  <Hit_id>gi|1341005675|ref|XM_023925511.1|</Hit_id>\n",
      "  <Hit_def>PREDICTED: Cyanistes caeruleus serine/threonine kinase 32B (STK32B), mRNA</Hit_def>\n",
      "  <Hit_id>gi|1279810917|ref|XM_023103200.1|</Hit_id>\n",
      "  <Hit_def>PREDICTED: Cucurbita moschata AT-rich interactive domain-containing protein 1 (LOC111460098), transcript variant X3, mRNA</Hit_def>\n",
      "  <Hit_id>gi|1279810915|ref|XM_023103199.1|</Hit_id>\n",
      "  <Hit_def>PREDICTED: Cucurbita moschata AT-rich interactive domain-containing protein 1 (LOC111460098), transcript variant X2, mRNA</Hit_def>\n",
      "  <Hit_id>gi|1279810913|ref|XM_023103198.1|</Hit_id>\n",
      "  <Hit_def>PREDICTED: Cucurbita moschata AT-rich interactive domain-containing protein 1 (LOC111460098), transcript variant X1, mRNA</Hit_def>\n",
      "  <Hit_id>gi|1220465027|gb|CP020666.1|</Hit_id>\n",
      "  <Hit_def>Oryzias latipes strain Hd-rR chromosome 2 sequence</Hit_def>\n",
      "  <Hit_id>gi|1126731993|emb|LT669795.1|</Hit_id>\n",
      "  <Hit_def>Arabis alpina genome assembly, chromosome: 8</Hit_def>\n",
      "  <Hit_id>gi|942164179|ref|XM_005999550.2|</Hit_id>\n",
      "  <Hit_def>PREDICTED: Latimeria chalumnae integrin, alpha 9 (ITGA9), mRNA</Hit_def>\n",
      "  <Hit_id>gi|850477813|gb|CP011887.1|</Hit_id>\n",
      "  <Hit_def>Ovis canadensis canadensis isolate 43U chromosome 2 sequence</Hit_def>\n",
      "  <Hit_id>gi|850486717|gb|CP011896.1|</Hit_id>\n",
      "  <Hit_def>Ovis canadensis canadensis isolate 43U chromosome 11 sequence</Hit_def>\n",
      "  <Hit_id>gi|850481938|gb|CP011889.1|</Hit_id>\n",
      "  <Hit_def>Ovis canadensis canadensis isolate 43U chromosome 4 sequence</Hit_def>\n",
      "  <Hit_id>gi|828315368|ref|XM_004502504.2|</Hit_id>\n",
      "  <Hit_def>PREDICTED: Cicer arietinum putative pentatricopeptide repeat-containing protein At1g77010, mitochondrial (LOC101510165), mRNA</Hit_def>\n",
      "  <Hit_id>gi|823412462|ref|XM_004403332.2|</Hit_id>\n",
      "  <Hit_def>PREDICTED: Odobenus rosmarus divergens potassium channel, calcium activated large conductance subfamily M alpha, member 1 (KCNMA1), transcript variant X15, mRNA</Hit_def>\n",
      "  <Hit_id>gi|823412447|ref|XM_012563393.1|</Hit_id>\n",
      "  <Hit_def>PREDICTED: Odobenus rosmarus divergens potassium channel, calcium activated large conductance subfamily M alpha, member 1 (KCNMA1), transcript variant X7, mRNA</Hit_def>\n",
      "  <Hit_id>gi|795154611|ref|XM_011939975.1|</Hit_id>\n",
      "  <Hit_def>PREDICTED: Colobus angolensis palliatus RNA polymerase II associated protein 2 (RPAP2), mRNA</Hit_def>\n",
      "  <Hit_id>gi|488579609|ref|XM_004475208.1|</Hit_id>\n",
      "  <Hit_def>PREDICTED: Dasypus novemcinctus olfactory receptor 14C36-like (LOC101421230), mRNA</Hit_def>\n",
      "  <Hit_id>gi|472367731|ref|XM_004403339.1|</Hit_id>\n",
      "  <Hit_def>PREDICTED: Odobenus rosmarus divergens potassium channel, calcium activated large conductance subfamily M alpha, member 1 (KCNMA1), transcript variant X20, mRNA</Hit_def>\n",
      "  <Hit_id>gi|290990575|ref|XM_002677866.1|</Hit_id>\n",
      "  <Hit_def>Naegleria gruberi predicted protein, mRNA</Hit_def>\n",
      "  <Hit_id>gi|260590518|dbj|AB495066.1|</Hit_id>\n",
      "  <Hit_def>Bos taurus DNA, T/C polymorphism, clone: TSA34</Hit_def>\n",
      "  <Hit_id>gi|159159420|gb|EU221179.1|</Hit_id>\n",
      "  <Hit_def>Salmo salar clone 261P24 interferon-inducible GTPase_b and interferon-inducible GTPase_a genes, complete cds; and TCR-gamma constant region locus</Hit_def>\n",
      "  <Hit_id>gi|134118496|ref|XM_767042.1|</Hit_id>\n",
      "  <Hit_def>Cryptococcus neoformans var. neoformans B-3501A hypothetical protein (CNBM1800) partial mRNA</Hit_def>\n",
      "  <Hit_id>gi|11496309|gb|AC079033.12|</Hit_id>\n",
      "  <Hit_def>Homo sapiens 12 BAC RP11-453L7 (Roswell Park Cancer Institute Human BAC Library) complete sequence</Hit_def>\n",
      "  <Hit_id>gi|1435908220|gb|CP031219.1|</Hit_id>\n",
      "  <Hit_def>Malacobacter mytili LMG 24559 chromosome, complete genome</Hit_def>\n",
      "  <Hit_id>gi|1069326398|ref|XM_018246667.1|</Hit_id>\n",
      "  <Hit_def>PREDICTED: Xenopus laevis coiled-coil domain-containing protein 80-like (LOC108708202), transcript variant X2, mRNA</Hit_def>\n",
      "  <Hit_id>gi|1069326396|ref|XM_018246666.1|</Hit_id>\n",
      "  <Hit_def>PREDICTED: Xenopus laevis coiled-coil domain-containing protein 80-like (LOC108708202), transcript variant X1, mRNA</Hit_def>\n",
      "  <Hit_id>gi|805790985|ref|XM_003703806.2|</Hit_id>\n",
      "  <Hit_def>PREDICTED: Megachile rotundata transmembrane protein C5orf28 (LOC100879005), mRNA</Hit_def>\n",
      "  <Hit_id>gi|795154611|ref|XM_011939975.1|</Hit_id>\n",
      "  <Hit_def>PREDICTED: Colobus angolensis palliatus RNA polymerase II associated protein 2 (RPAP2), mRNA</Hit_def>\n",
      "  <Hit_id>gi|1450435207|emb|LS992097.1|</Hit_id>\n",
      "  <Hit_def>Triticum aestivum genome assembly, chromosome: 6D</Hit_def>\n",
      "  <Hit_id>gi|1408467630|ref|XM_006052919.2|</Hit_id>\n",
      "  <Hit_def>PREDICTED: Bubalus bubalis serum amyloid A like 1 (SAAL1), mRNA</Hit_def>\n",
      "  <Hit_id>gi|1197332988|ref|XM_021272509.1|</Hit_id>\n",
      "  <Hit_def>PREDICTED: Anas platyrhynchos NUAK family kinase 1 (NUAK1), transcript variant X2, mRNA</Hit_def>\n",
      "  <Hit_id>gi|1197332984|ref|XM_021272508.1|</Hit_id>\n",
      "  <Hit_def>PREDICTED: Anas platyrhynchos NUAK family kinase 1 (NUAK1), transcript variant X1, mRNA</Hit_def>\n",
      "  <Hit_id>gi|1189419115|gb|CP018157.1|</Hit_id>\n",
      "  <Hit_def>Oryza sativa Indica Group cultivar Shuhui498 chromosome 1 sequence</Hit_def>\n",
      "  <Hit_id>gi|1069876723|ref|XM_018373482.1|</Hit_id>\n",
      "  <Hit_def>Pneumocystis jirovecii RU7 hypothetical protein (T551_01219), partial mRNA</Hit_def>\n",
      "  <Hit_id>gi|937893927|dbj|AP014957.1|</Hit_id>\n",
      "  <Hit_def>Oryza sativa Japonica Group DNA, chromosome 1, cultivar: Nipponbare, complete sequence</Hit_def>\n",
      "  <Hit_id>gi|932282494|gb|CP012609.1|</Hit_id>\n",
      "  <Hit_def>Oryza sativa Indica Group cultivar RP Bio-226 chromosome 1 sequence</Hit_def>\n",
      "  <Hit_id>gi|902894121|ref|XM_013180944.1|</Hit_id>\n",
      "  <Hit_def>PREDICTED: Anser cygnoides domesticus NUAK family, SNF1-like kinase, 1 (NUAK1), mRNA</Hit_def>\n",
      "  <Hit_id>gi|663533288|gb|KF901224.1|</Hit_id>\n",
      "  <Hit_def>Uncultured marine thaumarchaeote SAT1000_13_G01 genomic sequence</Hit_def>\n",
      "  <Hit_id>gi|620962744|ref|XM_007667892.1|</Hit_id>\n",
      "  <Hit_def>PREDICTED: Ornithorhynchus anatinus La ribonucleoprotein domain family member 4B (LARP4B), mRNA</Hit_def>\n",
      "  <Hit_id>gi|32978449|dbj|AK068431.1|</Hit_id>\n",
      "  <Hit_def>Oryza sativa Japonica Group cDNA clone:J013154E14, full insert sequence</Hit_def>\n",
      "  <Hit_id>gi|15623895|dbj|AP003328.3|</Hit_id>\n",
      "  <Hit_def>Oryza sativa Japonica Group genomic DNA, chromosome 1, BAC clone:B1040D09</Hit_def>\n",
      "  <Hit_id>gi|1443039796|ref|XM_015766409.2|</Hit_id>\n",
      "  <Hit_def>PREDICTED: Oryza sativa Japonica Group ATP-dependent zinc metalloprotease FTSH 9, chloroplastic/mitochondrial-like (LOC4326617), mRNA</Hit_def>\n",
      "  <Hit_id>gi|1431907556|gb|CP030986.1|</Hit_id>\n",
      "  <Hit_def>Arachis hypogaea cultivar Shitouqi chromosome A04</Hit_def>\n",
      "  <Hit_id>gi|1391794186|ref|XM_025164568.1|</Hit_id>\n",
      "  <Hit_def>PREDICTED: Python bivittatus potassium voltage-gated channel subfamily H member 4 (KCNH4), mRNA</Hit_def>\n",
      "  <Hit_id>gi|1384045757|gb|MH051914.1|</Hit_id>\n",
      "  <Hit_def>Enterobacteria phage vB_EcoM_IME338, complete genome</Hit_def>\n",
      "  <Hit_id>gi|1273855372|gb|CP023757.1|</Hit_id>\n",
      "  <Hit_def>Solanum lycopersicum cultivar I-3 chromosome 1</Hit_def>\n",
      "  <Hit_id>gi|1073524334|gb|KX657747.1|</Hit_id>\n",
      "  <Hit_def>Saccharomyces mikatae strain CBS 8839 mitochondrion, complete genome</Hit_def>\n",
      "  <Hit_id>gi|1062942486|ref|XM_005696957.3|</Hit_id>\n",
      "  <Hit_def>PREDICTED: Capra hircus CD226 molecule (CD226), mRNA</Hit_def>\n",
      "  <Hit_id>gi|1043015352|emb|LT571452.1|</Hit_id>\n",
      "  <Hit_def>Pongo pygmaeus genome assembly, chromosome: XII</Hit_def>\n",
      "  <Hit_id>gi|1042907536|emb|LT594788.1|</Hit_id>\n",
      "  <Hit_def>Theobroma cacao genome assembly, chromosome: I</Hit_def>\n",
      "  <Hit_id>gi|964145900|ref|XM_014909648.1|</Hit_id>\n",
      "  <Hit_def>Drosophila ananassae uncharacterized protein, transcript variant I (Dana\\GF24650), mRNA</Hit_def>\n",
      "  <Hit_id>gi|964145897|ref|XM_014909647.1|</Hit_id>\n",
      "  <Hit_def>Drosophila ananassae uncharacterized protein, transcript variant H (Dana\\GF24650), mRNA</Hit_def>\n",
      "  <Hit_id>gi|964145893|ref|XM_014909646.1|</Hit_id>\n",
      "  <Hit_def>Drosophila ananassae uncharacterized protein, transcript variant G (Dana\\GF24650), mRNA</Hit_def>\n",
      "  <Hit_id>gi|964145889|ref|XM_014909645.1|</Hit_id>\n",
      "  <Hit_def>Drosophila ananassae uncharacterized protein, transcript variant F (Dana\\GF24650), mRNA</Hit_def>\n",
      "  <Hit_id>gi|964145883|ref|XM_014909644.1|</Hit_id>\n",
      "  <Hit_def>Drosophila ananassae uncharacterized protein, transcript variant D (Dana\\GF24650), mRNA</Hit_def>\n",
      "  <Hit_id>gi|964145879|ref|XM_014909643.1|</Hit_id>\n",
      "  <Hit_def>Drosophila ananassae uncharacterized protein, transcript variant B (Dana\\GF24650), mRNA</Hit_def>\n",
      "  <Hit_id>gi|964145874|ref|XM_014909642.1|</Hit_id>\n",
      "  <Hit_def>Drosophila ananassae uncharacterized protein, transcript variant C (Dana\\GF24650), mRNA</Hit_def>\n",
      "  <Hit_id>gi|964135869|ref|XM_001956286.2|</Hit_id>\n",
      "  <Hit_def>Drosophila ananassae uncharacterized protein, transcript variant E (Dana\\GF24650), mRNA</Hit_def>\n",
      "  <Hit_id>gi|927137425|ref|XM_014056526.1|</Hit_id>\n",
      "  <Hit_def>PREDICTED: Thamnophis sirtalis potassium channel, voltage gated eag related subfamily H, member 4 (KCNH4), mRNA</Hit_def>\n",
      "  <Hit_id>gi|924560592|gb|CP012526.1|</Hit_id>\n",
      "  <Hit_def>Drosophila busckii chromosome 3R sequence</Hit_def>\n",
      "  <Hit_id>gi|850485237|gb|CP011893.1|</Hit_id>\n",
      "  <Hit_def>Ovis canadensis canadensis isolate 43U chromosome 8 sequence</Hit_def>\n",
      "  <Hit_id>gi|751774453|ref|XM_011215553.1|</Hit_id>\n",
      "  <Hit_def>PREDICTED: Bactrocera dorsalis glucose dehydrogenase [FAD, quinone] (LOC105233460), mRNA</Hit_def>\n",
      "  <Hit_id>gi|663680609|emb|HG975513.1|</Hit_id>\n",
      "  <Hit_def>Solanum lycopersicum chromosome ch01, complete genome</Hit_def>\n",
      "  <Hit_id>gi|387510370|emb|HE806316.1|</Hit_id>\n",
      "  <Hit_def>Tetrapisispora blattae CBS 6284 chromosome 1, complete genome</Hit_def>\n",
      "  <Hit_id>gi|363543559|gb|AC245804.4|</Hit_id>\n",
      "  <Hit_def>Solanum lycopersicum strain Heinz 1706 chromosome 1 clone sle-6f22 map 1, complete sequence</Hit_def>\n",
      "  <Hit_id>gi|360043576|emb|HE601631.1|</Hit_id>\n",
      "  <Hit_def>Schistosoma mansoni strain Puerto Rico chromosome W, complete genome</Hit_def>\n",
      "  <Hit_id>gi|297207167|gb|AC240985.1|</Hit_id>\n",
      "  <Hit_def>Brassica rapa subsp. pekinensis clone KBrB008O16, complete sequence</Hit_def>\n",
      "  <Hit_id>gi|199580128|gb|AC189432.2|</Hit_id>\n",
      "  <Hit_def>Brassica rapa subsp. pekinensis clone KBrB068E07, complete sequence</Hit_def>\n",
      "  <Hit_id>gi|147801736|emb|AM458889.2|</Hit_id>\n",
      "  <Hit_def>Vitis vinifera contig VV78X083511.3, whole genome shotgun sequence</Hit_def>\n",
      "  <Hit_id>gi|113951822|gb|AC189668.2|</Hit_id>\n",
      "  <Hit_def>Taeniopygia guttata BAC clone TGMCBa-17H12 from chromosome unknown, complete sequence</Hit_def>\n",
      "  <Hit_id>gi|110431483|gb|AC185967.2|</Hit_id>\n",
      "  <Hit_def>Pan troglodytes BAC clone CH251-708H21 from chromosome 1, complete sequence</Hit_def>\n",
      "  <Hit_id>gi|27228870|gb|AC104838.3|</Hit_id>\n",
      "  <Hit_def>Homo sapiens chromosome 1 clone RP4-671I22, complete sequence</Hit_def>\n"
     ]
    }
   ],
   "source": [
    "result = []\n",
    "for s in seqs:\n",
    "    result_handle = NCBIWWW.qblast(\"blastn\", \"nt\", s)\n",
    "    result_read = result_handle.read()\n",
    "    splited_result = result_read.split('\\n')\n",
    "    for l in splited_result:\n",
    "        if '<Hit_id>' in l:\n",
    "            print(l)\n",
    "        elif '<Hit_def>' in l:\n",
    "            print(l)    "
   ]
  },
  {
   "cell_type": "markdown",
   "metadata": {},
   "source": [
    "### Results"
   ]
  },
  {
   "cell_type": "markdown",
   "metadata": {},
   "source": [
    "|Accession number|Gene\n",
    "|----------------|-------\n",
    "|XM_010902349.2|Esox lucius dynactin subunit 4 (dctn4)\n",
    "|XM_008276366.1|Stegastes partitus kinase suppressor of Ras 1-like \n",
    "|NG_050651.1|ATP binding cassette subfamily C member 4 (ABCC4)\n",
    "|XM_015491180.1|Marmota retinoblastoma binding protein 6 (Rbbp6)\n",
    "|XM_005518805.2|Pseudopodoces humilis Bet1 golgi vesicular membrane trafficking protein (BET1) \n",
    "|XM_009491587.1|Pelecanus crispus phenylalanine hydroxylase (PAH)\n",
    "|KJ194814.1|HIV-1 isolate F1_DU2922bh_2013 from Romania pol protein (pol) gene  \n",
    "|KT779115.1|Pyrophorus punctatissimus isolate VhcPyroP01 tRNA-Ile and 12S ribosomal RNA genes\n",
    "|XM_021272508.1|Anas platyrhynchos NUAK family kinase 1 (NUAK1)\n",
    "\n",
    "*The results here are off because the region I selected are short, therefore the blast result does not accurately represent Jamie's gene. For example, there are many Drosophila and Pan troglodytes genomes also match. If the longer region were used, blast result will be more accurate.*"
   ]
  }
 ],
 "metadata": {
  "kernelspec": {
   "display_name": "Python 3",
   "language": "python",
   "name": "python3"
  },
  "language_info": {
   "codemirror_mode": {
    "name": "ipython",
    "version": 3
   },
   "file_extension": ".py",
   "mimetype": "text/x-python",
   "name": "python",
   "nbconvert_exporter": "python",
   "pygments_lexer": "ipython3",
   "version": "3.6.6"
  }
 },
 "nbformat": 4,
 "nbformat_minor": 2
}
