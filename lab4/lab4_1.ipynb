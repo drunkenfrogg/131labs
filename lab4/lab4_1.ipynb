{
 "cells": [
  {
   "cell_type": "markdown",
   "metadata": {},
   "source": [
    "##### *UCSC, Entrez, KEGG, and Reactome*\n",
    "> **UCSC** genome database is very informative and offers a lot of options that narrow down our search. The genome browser is easy to use and provides good user interface that allows users to look into details by simpily clicking a specific locus on the chromosome.      \n",
    "**Entrez** allows users to search information in cross databases. It reduces works when users try to compare data in different databases. It allows users to select and sort datas in python, which simplifies data manipulation. However, it stores uncurated data, therefore it could provide undesirable information.      \n",
    "**KEGG** presents the pathways graphically and also allows users to interact with the graph. It clarifies the interaction among pathways. The pathways are categorized.   \n",
    "**Reactome** also presents pathways in colorful graphs that makes easier to see. It's easy to zoom in and out.      \n",
    "I prefer Reactome because of its simplicity, but Entrez seems to be the most complete because it has info in all databases."
   ]
  },
  {
   "cell_type": "code",
   "execution_count": 1,
   "metadata": {},
   "outputs": [],
   "source": [
    "from Bio import Entrez\n",
    "from Bio import SeqIO\n",
    "Entrez.email = 'jinghuawu@berkeley.edu'"
   ]
  },
  {
   "cell_type": "code",
   "execution_count": 2,
   "metadata": {},
   "outputs": [],
   "source": [
    "orgs = ['Drosophila', 'E.coli', 'human']\n",
    "\n",
    "glycolysis = ['pyruvate kinase', 'enolase', \n",
    "              'Phosphoglycerate mutase', 'phosphofructokinase']\n",
    "\n",
    "TCA = ['malate dehydrogenase', 'citrate synthase', \n",
    "       'aconitase', 'isocitrate dehydrogenase']\n",
    "\n",
    "pentose_phosphate = ['glucose 6-phosphate dehydrogenase', 'ribose 5-phosphate isomerase', \n",
    "                     'transketolase', 'transaldolase']\n",
    "\n",
    "all_enzymes = glycolysis + TCA + pentose_phosphate"
   ]
  },
  {
   "cell_type": "markdown",
   "metadata": {},
   "source": [
    "### *Data retrieval*"
   ]
  },
  {
   "cell_type": "markdown",
   "metadata": {},
   "source": [
    "Variables \"organism\", \"ids\", \"enzyme\", \"path\", \"description\" and \"ntsql\" are lists that store the categorized information, which can be converted to tuples later."
   ]
  },
  {
   "cell_type": "code",
   "execution_count": 3,
   "metadata": {},
   "outputs": [],
   "source": [
    "#gene data\n",
    "organism = []\n",
    "ids = []\n",
    "enzyme = []\n",
    "path = []\n",
    "\n",
    "for o in orgs: #for each organism\n",
    "    for e in all_enzymes:\n",
    "        if e in glycolysis:\n",
    "            path.append(\"glycolysis\")\n",
    "        elif e in TCA:\n",
    "            path.append(\"TCA\")\n",
    "        elif e in pentose_phosphate:\n",
    "            path.append(\"pentose phosphate pathway\")\n",
    "     \n",
    "        organism.append(o)\n",
    "        enzyme.append(e)\n",
    "        handle = Entrez.esearch(db='nucleotide', #can be anything on Entrez (nucleotide, gene, protein, genome)\n",
    "                                term= o + '[Orgn]' + ' AND ' + e + '[Prot]', #search the term, browser format\n",
    "                                sort='relevance',\n",
    "                                idtype='acc', #types of record IDs are returned (acc=accession number) \n",
    "                                retmax=1)\n",
    "        for i in Entrez.read(handle)['IdList']:\n",
    "            ids.append(i)         "
   ]
  },
  {
   "cell_type": "code",
   "execution_count": 4,
   "metadata": {},
   "outputs": [],
   "source": [
    "description = []\n",
    "ntseq = []\n",
    "for i in ids:\t\t\t\n",
    "\thandle = Entrez.efetch(db='nucleotide', \n",
    "                           id=i, #the first one is the most relevant one\n",
    "                           rettype='gb', #Retrieval type. \n",
    "                           retmode='text')\n",
    "\trecord = SeqIO.read(handle, \"gb\")\n",
    "\tdescription.append(str(record.description))\n",
    "\tntseq.append(str(record.seq[:30]))"
   ]
  },
  {
   "cell_type": "markdown",
   "metadata": {},
   "source": [
    "**Turn data into tuples for later use.**"
   ]
  },
  {
   "cell_type": "code",
   "execution_count": 5,
   "metadata": {},
   "outputs": [],
   "source": [
    "gene_tuple = []\n",
    "for n in range(len(ids)):\n",
    "\tgene_tuple.append(tuple([ids[n], description[n], organism[n], enzyme[n], path[n], ntseq[n]]))"
   ]
  },
  {
   "cell_type": "markdown",
   "metadata": {},
   "source": [
    "#### *Import data to sqlite*"
   ]
  },
  {
   "cell_type": "code",
   "execution_count": 6,
   "metadata": {},
   "outputs": [],
   "source": [
    "import sqlite3 #provide interface\n",
    "conn = sqlite3.connect('my.db') #create a Connection object that represents the database. ('example.db')\n",
    "c = conn.cursor() #create cursor object for method calls later."
   ]
  },
  {
   "cell_type": "markdown",
   "metadata": {},
   "source": [
    "**Gene table (36 different genes)**"
   ]
  },
  {
   "cell_type": "code",
   "execution_count": 7,
   "metadata": {},
   "outputs": [
    {
     "data": {
      "text/plain": [
       "<sqlite3.Cursor at 0x104d7dd50>"
      ]
     },
     "execution_count": 7,
     "metadata": {},
     "output_type": "execute_result"
    }
   ],
   "source": [
    "#gene table\n",
    "c.execute(\n",
    "    \"\"\"CREATE TABLE gene (id INT,\n",
    "                          name TEXT,\n",
    "                          description TEXT,\n",
    "                          organism TEXT,\n",
    "                          enzyme TEXT,\n",
    "                          pathway TEXT,\n",
    "                          ntseq VARCHAR(20));\"\"\")"
   ]
  },
  {
   "cell_type": "code",
   "execution_count": 8,
   "metadata": {},
   "outputs": [],
   "source": [
    "for i in gene_tuple:\n",
    "    temp = i\n",
    "    c.execute(\"\"\"INSERT INTO gene (id, description, organism, enzyme, pathway, ntseq) VALUES (?, ?, ?, ?, ?, ?);\"\"\", temp)\n",
    "conn.commit()"
   ]
  },
  {
   "cell_type": "markdown",
   "metadata": {},
   "source": [
    "**Pathway table (3 pathways total)**"
   ]
  },
  {
   "cell_type": "code",
   "execution_count": 9,
   "metadata": {},
   "outputs": [],
   "source": [
    "c.execute(\"\"\"CREATE TABLE pathway (name TEXT, description TEXT)\"\"\")\n",
    "conn.commit()"
   ]
  },
  {
   "cell_type": "code",
   "execution_count": 10,
   "metadata": {},
   "outputs": [],
   "source": [
    "c.execute(\"\"\"INSERT INTO pathway (name, description) VALUES ('glycolysis', 'a metabolic process that occurs during aerobic and anaerobic respiration of living organisms within the cytoplasm.');\"\"\")\n",
    "c.execute(\"\"\"INSERT INTO pathway (name, description) VALUES ('TCA', 'a metabolic process that occurs during aerobic and anaerobic respiration of living organisms within the cytoplasm.');\"\"\")\n",
    "c.execute(\"\"\"INSERT INTO pathway (name, description) VALUES ('pentose_phosphate_pathway', 'hexose monophosphate shunt) is a metabolic pathway parallel to glycolysis.');\"\"\")\n",
    "conn.commit()"
   ]
  },
  {
   "cell_type": "markdown",
   "metadata": {},
   "source": [
    "**enzyme table (12 enzymes total)**"
   ]
  },
  {
   "cell_type": "code",
   "execution_count": 11,
   "metadata": {},
   "outputs": [],
   "source": [
    "#enzyme table\n",
    "c.execute(\"\"\"CREATE TABLE enzyme (name TEXT, function TEXT, enzyme_commission TEXT, path TEXT)\"\"\")\n",
    "conn.commit()"
   ]
  },
  {
   "cell_type": "code",
   "execution_count": 12,
   "metadata": {},
   "outputs": [],
   "source": [
    "c.execute(\"\"\"INSERT INTO enzyme (name, function, enzyme_commission, path) \n",
    "\t\t\t VALUES  ('pyruvate kinase', 'catalyzes the final step of glycolysis', '2.7.1.40', 'glycolysis'),\n",
    "\t\t\t \t\t ('enolase', 'metalloenzyme responsible for the catalysis of the conversion of 2-phosphoglycerate (2-PG) to phosphoenolpyruvate (PEP)', '4.2.1.11', 'glycolysis'),\n",
    "\t\t\t \t\t ('Phosphoglycerate mutase', 'any enzyme that catalyzes step 8 of glycolysis', '5.4.2.11', 'glycolysis'),\n",
    "\t\t\t \t\t ('phosphofructokinase', 'a kinase enzyme that phosphorylates fructose 6-phosphate in glycolysis', '2.7.1.11', 'glycolysis'),\n",
    "\t\t\t \t\t ('malate dehydrogenase', 'an enzyme that reversibly catalyzes the oxidation of malate to oxaloacetate', '1.1.1.37', 'TCA'),\n",
    "\t\t\t \t\t ('citrate synthase', 'pace-making enzyme in the first step of the citric acid cycle', '2.3.3.1', 'TCA'), \n",
    "\t\t\t \t\t ('aconitase', 'an enzyme that catalyses the stereo-specific isomerization of citrate to isocitrate via cis-aconitate in the tricarboxylic acid cycle', '4.2.1.3', 'TCA'), \n",
    "\t\t\t \t\t ('isocitrate dehydrogenase', 'an enzyme that catalyzes the oxidative decarboxylation of isocitrate', '1.1.1.42', 'TCA'),\n",
    "\t\t\t \t\t ('glucose 6-phosphate dehydrogenase', 'a cytosolic enzyme that catalyzes D-glucose 6-phosphate', '1.1.1.49', 'pentose_phosphate_pathway'),\n",
    "\t\t\t \t\t ('ribose 5-phosphate isomerase', 'catalyzes the conversion between ribose-5-phosphate (R5P) and ribulose-5-phosphate (Ru5P)', '5.3.1.6', 'pentose_phosphate_pathway'),\n",
    "                     ('transketolase', 'catalyzes two important reactions, which operate in opposite directions in these two pathways', '2.2.1.1', 'pentose_phosphate_pathway'),\n",
    "                     ('transaldolase', 'an enzyme (EC 2.2.1.2) of the non-oxidative phase of the pentose phosphate pathway', '2.2.1.2', 'pentose_phosphate_pathway');\"\"\")\n",
    "conn.commit()"
   ]
  },
  {
   "cell_type": "code",
   "execution_count": 13,
   "metadata": {},
   "outputs": [
    {
     "name": "stdout",
     "output_type": "stream",
     "text": [
      "[('XM_023317917.1', None, 'PREDICTED: Drosophila hydei pyruvate kinase (LOC111601379), mRNA', 'Drosophila', 'pyruvate kinase', 'glycolysis', 'TTTCAATACTTAAAAAAAACAAAGTTAATA'), ('XM_023310563.1', None, 'PREDICTED: Drosophila hydei enolase (LOC111596366), mRNA', 'Drosophila', 'enolase', 'glycolysis', 'TTATTTTTGATATATTCAATTCTTAGTTTA'), ('NT_033777.3', None, 'Drosophila melanogaster chromosome 3R', 'Drosophila', 'Phosphoglycerate mutase', 'glycolysis', 'NNNNNNNNNNNNNNNNNNNNNNNNNNNNNN'), ('NT_033778.4', None, 'Drosophila melanogaster chromosome 2R', 'Drosophila', 'phosphofructokinase', 'glycolysis', 'NNNNNNNNNNNNNNNNNNNNNNNNNNNNNN'), ('NT_033779.5', None, 'Drosophila melanogaster chromosome 2L', 'Drosophila', 'malate dehydrogenase', 'TCA', 'NNNNNNNNNNNNNNNNNNNNNNNNNNNNNN'), ('NC_004354.4', None, 'Drosophila melanogaster chromosome X', 'Drosophila', 'citrate synthase', 'TCA', 'NNNNNNNNNNNNNNNNNNNNNNNNNNNNNN'), ('NT_033779.5', None, 'Drosophila melanogaster chromosome 2L', 'Drosophila', 'aconitase', 'TCA', 'NNNNNNNNNNNNNNNNNNNNNNNNNNNNNN'), ('LC058675.1', None, 'Drosophila nasuta Idh gene for isocitrate dehydrogenase, partial cds, strain: G7', 'Drosophila', 'isocitrate dehydrogenase', 'TCA', 'CTCATTCTGCCATTCCTCGACATTGAGTTG'), ('AY364534.1', None, 'Drosophila mojavensis strain MJS 71 glucose-6-phosphate dehydrogenase (G6pd) gene, exon 4 and partial cds', 'Drosophila', 'glucose 6-phosphate dehydrogenase', 'pentose phosphate pathway', 'GGCTGGAATCGCGTGATCGTCGAGAAGCCC'), ('XM_023305862.1', None, 'PREDICTED: Drosophila hydei ribose-5-phosphate isomerase (LOC111593212), mRNA', 'Drosophila', 'ribose 5-phosphate isomerase', 'pentose phosphate pathway', 'TTTCAAATAGATGTCAAATTCACTGTGAAA'), ('NT_033777.3', None, 'Drosophila melanogaster chromosome 3R', 'Drosophila', 'transketolase', 'pentose phosphate pathway', 'NNNNNNNNNNNNNNNNNNNNNNNNNNNNNN'), ('XM_002005838.2', None, 'Drosophila mojavensis uncharacterized protein (Dmoj\\\\GI18849), mRNA', 'Drosophila', 'transaldolase', 'pentose phosphate pathway', 'GTCCAGACTAAAGATTTAGTTGCACCGGGT'), ('NZ_CP009050.1', None, 'Escherichia coli NCCP15648, complete genome', 'E.coli', 'pyruvate kinase', 'glycolysis', 'NNNNNNNNNNNNNNNNNNNNNNNNNNNNNN'), ('NZ_CP009050.1', None, 'Escherichia coli NCCP15648, complete genome', 'E.coli', 'enolase', 'glycolysis', 'NNNNNNNNNNNNNNNNNNNNNNNNNNNNNN'), ('PDAC01000032.1', None, 'Escherichia coli strain TVS 353 NODE_32_length_28275_cov_33.7839, whole genome shotgun sequence', 'E.coli', 'Phosphoglycerate mutase', 'glycolysis', 'AGAAAGGCAGTCCGCTGCATAAATCTACGC'), ('CP026473.1', None, 'Escherichia coli strain KBN10P04869 chromosome, complete genome', 'E.coli', 'phosphofructokinase', 'glycolysis', 'CCAGCATGGCGCGCCGGGTGGAGGATTATA'), ('NZ_CP009050.1', None, 'Escherichia coli NCCP15648, complete genome', 'E.coli', 'malate dehydrogenase', 'TCA', 'NNNNNNNNNNNNNNNNNNNNNNNNNNNNNN'), ('NZ_PDAP01000234.1', None, 'Escherichia coli strain 2016C-3325 NODE_234_length_464_cov_0.697329_ID_21090, whole genome shotgun sequence', 'E.coli', 'citrate synthase', 'TCA', 'NNNNNNNNNNNNNNNNNNNNNNNNNNNNNN'), ('QREF01000006.1', None, 'Escherichia coli strain 333 Ga0213564_106, whole genome shotgun sequence', 'E.coli', 'aconitase', 'TCA', 'CTTGAGACTTGGTATTCATTTTTCGTCTTG'), ('NZ_NDCE01000057.1', None, 'Escherichia coli strain 39913 39913_NODE_70.ctg_1, whole genome shotgun sequence', 'E.coli', 'isocitrate dehydrogenase', 'TCA', 'NNNNNNNNNNNNNNNNNNNNNNNNNNNNNN'), ('NZ_CP009050.1', None, 'Escherichia coli NCCP15648, complete genome', 'E.coli', 'glucose 6-phosphate dehydrogenase', 'pentose phosphate pathway', 'NNNNNNNNNNNNNNNNNNNNNNNNNNNNNN'), ('NZ_CP009050.1', None, 'Escherichia coli NCCP15648, complete genome', 'E.coli', 'ribose 5-phosphate isomerase', 'pentose phosphate pathway', 'NNNNNNNNNNNNNNNNNNNNNNNNNNNNNN'), ('NZ_CP009050.1', None, 'Escherichia coli NCCP15648, complete genome', 'E.coli', 'transketolase', 'pentose phosphate pathway', 'NNNNNNNNNNNNNNNNNNNNNNNNNNNNNN'), ('NZ_CP009050.1', None, 'Escherichia coli NCCP15648, complete genome', 'E.coli', 'transaldolase', 'pentose phosphate pathway', 'NNNNNNNNNNNNNNNNNNNNNNNNNNNNNN'), ('FUIG01000043.1', None, 'Homo sapiens genome assembly, contig: BQ8482_Contig_35, whole genome shotgun sequence', 'human', 'pyruvate kinase', 'glycolysis', 'AATTACGCGATCATGACACTAGCACGATGC'), ('FUIG01000070.1', None, 'Homo sapiens genome assembly, contig: BQ8482_Contig_6, whole genome shotgun sequence', 'human', 'enolase', 'glycolysis', 'GAACTTGACGCACACAACTACAATCAGTCG'), ('FUIG01000013.1', None, 'Homo sapiens genome assembly, contig: BQ8482_Contig_11, whole genome shotgun sequence', 'human', 'Phosphoglycerate mutase', 'glycolysis', 'GGCCGAGAAGGCGCTGACCGCCGTCATCCA'), ('AH002936.2', None, 'Homo sapiens phosphofructokinase (PFKM) gene, partial cds', 'human', 'phosphofructokinase', 'glycolysis', 'AGTGGTTCGCACACAGTGGCTGTGATGAAC'), ('NM_006623.3', None, 'Homo sapiens phosphoglycerate dehydrogenase (PHGDH), mRNA', 'human', 'malate dehydrogenase', 'TCA', 'GCAGGGATTTGGCAACCTCAGAGCCGCGAG'), ('FUIG01000002.1', None, 'Homo sapiens genome assembly, contig: BQ8482_Contig_10, whole genome shotgun sequence', 'human', 'citrate synthase', 'TCA', 'CAGAACTTGACGCACACAACTCGAGACTGG'), ('AH007467.3', None, 'Homo sapiens chromosome 22 aconitase (ACO2) gene, complete cds', 'human', 'aconitase', 'TCA', 'GATGGCGGAGATAACTAAAATTTGTTCTTG'), ('KU639670.1', None, 'Homo sapiens voucher NGX277 isocitrate dehydrogenase (IDH2) gene, partial cds', 'human', 'isocitrate dehydrogenase', 'TCA', 'TCCCAATGGAACTATCCGGAACATCCTGGG'), ('FUIG01000013.1', None, 'Homo sapiens genome assembly, contig: BQ8482_Contig_11, whole genome shotgun sequence', 'human', 'glucose 6-phosphate dehydrogenase', 'pentose phosphate pathway', 'GGCCGAGAAGGCGCTGACCGCCGTCATCCA'), ('NM_144563.2', None, 'Homo sapiens ribose 5-phosphate isomerase A (RPIA), mRNA', 'human', 'ribose 5-phosphate isomerase', 'pentose phosphate pathway', 'CGGGGGCGGGACTTCAGCGGAGGCCGGAGC'), ('BC009970.2', None, 'Homo sapiens transketolase, mRNA (cDNA clone MGC:15349 IMAGE:4310396), complete cds', 'human', 'transketolase', 'pentose phosphate pathway', 'GCCTGTCGCCGCGGGAGCAGCCGCTATCTC'), ('NM_006755.1', None, 'Homo sapiens transaldolase 1 (TALDO1), mRNA', 'human', 'transaldolase', 'pentose phosphate pathway', 'CGCGCCCGTCCCGTCGCCGCCGCCGCCGCC')]\n"
     ]
    }
   ],
   "source": [
    "c.execute(\"SELECT * FROM gene;\")\n",
    "print(c.fetchall())"
   ]
  },
  {
   "cell_type": "code",
   "execution_count": 14,
   "metadata": {},
   "outputs": [
    {
     "name": "stdout",
     "output_type": "stream",
     "text": [
      "[('glycolysis', 'a metabolic process that occurs during aerobic and anaerobic respiration of living organisms within the cytoplasm.'), ('TCA', 'a metabolic process that occurs during aerobic and anaerobic respiration of living organisms within the cytoplasm.'), ('pentose_phosphate_pathway', 'hexose monophosphate shunt) is a metabolic pathway parallel to glycolysis.')]\n"
     ]
    }
   ],
   "source": [
    "c.execute(\"SELECT * FROM pathway;\")\n",
    "print(c.fetchall())"
   ]
  },
  {
   "cell_type": "code",
   "execution_count": 15,
   "metadata": {},
   "outputs": [
    {
     "name": "stdout",
     "output_type": "stream",
     "text": [
      "[('pyruvate kinase', 'catalyzes the final step of glycolysis', '2.7.1.40', 'glycolysis'), ('enolase', 'metalloenzyme responsible for the catalysis of the conversion of 2-phosphoglycerate (2-PG) to phosphoenolpyruvate (PEP)', '4.2.1.11', 'glycolysis'), ('Phosphoglycerate mutase', 'any enzyme that catalyzes step 8 of glycolysis', '5.4.2.11', 'glycolysis'), ('phosphofructokinase', 'a kinase enzyme that phosphorylates fructose 6-phosphate in glycolysis', '2.7.1.11', 'glycolysis'), ('malate dehydrogenase', 'an enzyme that reversibly catalyzes the oxidation of malate to oxaloacetate', '1.1.1.37', 'TCA'), ('citrate synthase', 'pace-making enzyme in the first step of the citric acid cycle', '2.3.3.1', 'TCA'), ('aconitase', 'an enzyme that catalyses the stereo-specific isomerization of citrate to isocitrate via cis-aconitate in the tricarboxylic acid cycle', '4.2.1.3', 'TCA'), ('isocitrate dehydrogenase', 'an enzyme that catalyzes the oxidative decarboxylation of isocitrate', '1.1.1.42', 'TCA'), ('glucose 6-phosphate dehydrogenase', 'a cytosolic enzyme that catalyzes D-glucose 6-phosphate', '1.1.1.49', 'pentose_phosphate_pathway'), ('ribose 5-phosphate isomerase', 'catalyzes the conversion between ribose-5-phosphate (R5P) and ribulose-5-phosphate (Ru5P)', '5.3.1.6', 'pentose_phosphate_pathway'), ('transketolase', 'catalyzes two important reactions, which operate in opposite directions in these two pathways', '2.2.1.1', 'pentose_phosphate_pathway'), ('transaldolase', 'an enzyme (EC 2.2.1.2) of the non-oxidative phase of the pentose phosphate pathway', '2.2.1.2', 'pentose_phosphate_pathway')]\n"
     ]
    }
   ],
   "source": [
    "c.execute(\"SELECT * FROM enzyme;\")\n",
    "print(c.fetchall())"
   ]
  },
  {
   "cell_type": "markdown",
   "metadata": {},
   "source": [
    "### *Associative Table*\n",
    "\n",
    "* gene table    x    pathway table    x    enzyme table *"
   ]
  },
  {
   "cell_type": "code",
   "execution_count": 16,
   "metadata": {},
   "outputs": [],
   "source": [
    "c.execute(\"\"\"\n",
    "CREATE TABLE assoc AS\n",
    "SELECT gene.id, gene.name AS gene_name, gene.description AS gene_description, gene.organism, gene.ntseq, \n",
    "       pathway.name AS pathway, pathway.description AS pathway_description,\n",
    "       enzyme.name AS enzyme, enzyme.function AS function, enzyme.enzyme_commission AS EC_num\n",
    "FROM gene, pathway, enzyme\n",
    "WHERE gene.pathway == pathway.name AND gene.enzyme == enzyme.name AND pathway.name == enzyme.path;\"\"\")\n",
    "conn.commit()"
   ]
  },
  {
   "cell_type": "code",
   "execution_count": 17,
   "metadata": {},
   "outputs": [
    {
     "name": "stdout",
     "output_type": "stream",
     "text": [
      "[('XM_023317917.1', None, 'PREDICTED: Drosophila hydei pyruvate kinase (LOC111601379), mRNA', 'Drosophila', 'TTTCAATACTTAAAAAAAACAAAGTTAATA', 'glycolysis', 'a metabolic process that occurs during aerobic and anaerobic respiration of living organisms within the cytoplasm.', 'pyruvate kinase', 'catalyzes the final step of glycolysis', '2.7.1.40'), ('XM_023310563.1', None, 'PREDICTED: Drosophila hydei enolase (LOC111596366), mRNA', 'Drosophila', 'TTATTTTTGATATATTCAATTCTTAGTTTA', 'glycolysis', 'a metabolic process that occurs during aerobic and anaerobic respiration of living organisms within the cytoplasm.', 'enolase', 'metalloenzyme responsible for the catalysis of the conversion of 2-phosphoglycerate (2-PG) to phosphoenolpyruvate (PEP)', '4.2.1.11'), ('NT_033777.3', None, 'Drosophila melanogaster chromosome 3R', 'Drosophila', 'NNNNNNNNNNNNNNNNNNNNNNNNNNNNNN', 'glycolysis', 'a metabolic process that occurs during aerobic and anaerobic respiration of living organisms within the cytoplasm.', 'Phosphoglycerate mutase', 'any enzyme that catalyzes step 8 of glycolysis', '5.4.2.11'), ('NT_033778.4', None, 'Drosophila melanogaster chromosome 2R', 'Drosophila', 'NNNNNNNNNNNNNNNNNNNNNNNNNNNNNN', 'glycolysis', 'a metabolic process that occurs during aerobic and anaerobic respiration of living organisms within the cytoplasm.', 'phosphofructokinase', 'a kinase enzyme that phosphorylates fructose 6-phosphate in glycolysis', '2.7.1.11'), ('NT_033779.5', None, 'Drosophila melanogaster chromosome 2L', 'Drosophila', 'NNNNNNNNNNNNNNNNNNNNNNNNNNNNNN', 'TCA', 'a metabolic process that occurs during aerobic and anaerobic respiration of living organisms within the cytoplasm.', 'malate dehydrogenase', 'an enzyme that reversibly catalyzes the oxidation of malate to oxaloacetate', '1.1.1.37'), ('NC_004354.4', None, 'Drosophila melanogaster chromosome X', 'Drosophila', 'NNNNNNNNNNNNNNNNNNNNNNNNNNNNNN', 'TCA', 'a metabolic process that occurs during aerobic and anaerobic respiration of living organisms within the cytoplasm.', 'citrate synthase', 'pace-making enzyme in the first step of the citric acid cycle', '2.3.3.1'), ('NT_033779.5', None, 'Drosophila melanogaster chromosome 2L', 'Drosophila', 'NNNNNNNNNNNNNNNNNNNNNNNNNNNNNN', 'TCA', 'a metabolic process that occurs during aerobic and anaerobic respiration of living organisms within the cytoplasm.', 'aconitase', 'an enzyme that catalyses the stereo-specific isomerization of citrate to isocitrate via cis-aconitate in the tricarboxylic acid cycle', '4.2.1.3'), ('LC058675.1', None, 'Drosophila nasuta Idh gene for isocitrate dehydrogenase, partial cds, strain: G7', 'Drosophila', 'CTCATTCTGCCATTCCTCGACATTGAGTTG', 'TCA', 'a metabolic process that occurs during aerobic and anaerobic respiration of living organisms within the cytoplasm.', 'isocitrate dehydrogenase', 'an enzyme that catalyzes the oxidative decarboxylation of isocitrate', '1.1.1.42'), ('NZ_CP009050.1', None, 'Escherichia coli NCCP15648, complete genome', 'E.coli', 'NNNNNNNNNNNNNNNNNNNNNNNNNNNNNN', 'glycolysis', 'a metabolic process that occurs during aerobic and anaerobic respiration of living organisms within the cytoplasm.', 'pyruvate kinase', 'catalyzes the final step of glycolysis', '2.7.1.40'), ('NZ_CP009050.1', None, 'Escherichia coli NCCP15648, complete genome', 'E.coli', 'NNNNNNNNNNNNNNNNNNNNNNNNNNNNNN', 'glycolysis', 'a metabolic process that occurs during aerobic and anaerobic respiration of living organisms within the cytoplasm.', 'enolase', 'metalloenzyme responsible for the catalysis of the conversion of 2-phosphoglycerate (2-PG) to phosphoenolpyruvate (PEP)', '4.2.1.11'), ('PDAC01000032.1', None, 'Escherichia coli strain TVS 353 NODE_32_length_28275_cov_33.7839, whole genome shotgun sequence', 'E.coli', 'AGAAAGGCAGTCCGCTGCATAAATCTACGC', 'glycolysis', 'a metabolic process that occurs during aerobic and anaerobic respiration of living organisms within the cytoplasm.', 'Phosphoglycerate mutase', 'any enzyme that catalyzes step 8 of glycolysis', '5.4.2.11'), ('CP026473.1', None, 'Escherichia coli strain KBN10P04869 chromosome, complete genome', 'E.coli', 'CCAGCATGGCGCGCCGGGTGGAGGATTATA', 'glycolysis', 'a metabolic process that occurs during aerobic and anaerobic respiration of living organisms within the cytoplasm.', 'phosphofructokinase', 'a kinase enzyme that phosphorylates fructose 6-phosphate in glycolysis', '2.7.1.11'), ('NZ_CP009050.1', None, 'Escherichia coli NCCP15648, complete genome', 'E.coli', 'NNNNNNNNNNNNNNNNNNNNNNNNNNNNNN', 'TCA', 'a metabolic process that occurs during aerobic and anaerobic respiration of living organisms within the cytoplasm.', 'malate dehydrogenase', 'an enzyme that reversibly catalyzes the oxidation of malate to oxaloacetate', '1.1.1.37'), ('NZ_PDAP01000234.1', None, 'Escherichia coli strain 2016C-3325 NODE_234_length_464_cov_0.697329_ID_21090, whole genome shotgun sequence', 'E.coli', 'NNNNNNNNNNNNNNNNNNNNNNNNNNNNNN', 'TCA', 'a metabolic process that occurs during aerobic and anaerobic respiration of living organisms within the cytoplasm.', 'citrate synthase', 'pace-making enzyme in the first step of the citric acid cycle', '2.3.3.1'), ('QREF01000006.1', None, 'Escherichia coli strain 333 Ga0213564_106, whole genome shotgun sequence', 'E.coli', 'CTTGAGACTTGGTATTCATTTTTCGTCTTG', 'TCA', 'a metabolic process that occurs during aerobic and anaerobic respiration of living organisms within the cytoplasm.', 'aconitase', 'an enzyme that catalyses the stereo-specific isomerization of citrate to isocitrate via cis-aconitate in the tricarboxylic acid cycle', '4.2.1.3'), ('NZ_NDCE01000057.1', None, 'Escherichia coli strain 39913 39913_NODE_70.ctg_1, whole genome shotgun sequence', 'E.coli', 'NNNNNNNNNNNNNNNNNNNNNNNNNNNNNN', 'TCA', 'a metabolic process that occurs during aerobic and anaerobic respiration of living organisms within the cytoplasm.', 'isocitrate dehydrogenase', 'an enzyme that catalyzes the oxidative decarboxylation of isocitrate', '1.1.1.42'), ('FUIG01000043.1', None, 'Homo sapiens genome assembly, contig: BQ8482_Contig_35, whole genome shotgun sequence', 'human', 'AATTACGCGATCATGACACTAGCACGATGC', 'glycolysis', 'a metabolic process that occurs during aerobic and anaerobic respiration of living organisms within the cytoplasm.', 'pyruvate kinase', 'catalyzes the final step of glycolysis', '2.7.1.40'), ('FUIG01000070.1', None, 'Homo sapiens genome assembly, contig: BQ8482_Contig_6, whole genome shotgun sequence', 'human', 'GAACTTGACGCACACAACTACAATCAGTCG', 'glycolysis', 'a metabolic process that occurs during aerobic and anaerobic respiration of living organisms within the cytoplasm.', 'enolase', 'metalloenzyme responsible for the catalysis of the conversion of 2-phosphoglycerate (2-PG) to phosphoenolpyruvate (PEP)', '4.2.1.11'), ('FUIG01000013.1', None, 'Homo sapiens genome assembly, contig: BQ8482_Contig_11, whole genome shotgun sequence', 'human', 'GGCCGAGAAGGCGCTGACCGCCGTCATCCA', 'glycolysis', 'a metabolic process that occurs during aerobic and anaerobic respiration of living organisms within the cytoplasm.', 'Phosphoglycerate mutase', 'any enzyme that catalyzes step 8 of glycolysis', '5.4.2.11'), ('AH002936.2', None, 'Homo sapiens phosphofructokinase (PFKM) gene, partial cds', 'human', 'AGTGGTTCGCACACAGTGGCTGTGATGAAC', 'glycolysis', 'a metabolic process that occurs during aerobic and anaerobic respiration of living organisms within the cytoplasm.', 'phosphofructokinase', 'a kinase enzyme that phosphorylates fructose 6-phosphate in glycolysis', '2.7.1.11'), ('NM_006623.3', None, 'Homo sapiens phosphoglycerate dehydrogenase (PHGDH), mRNA', 'human', 'GCAGGGATTTGGCAACCTCAGAGCCGCGAG', 'TCA', 'a metabolic process that occurs during aerobic and anaerobic respiration of living organisms within the cytoplasm.', 'malate dehydrogenase', 'an enzyme that reversibly catalyzes the oxidation of malate to oxaloacetate', '1.1.1.37'), ('FUIG01000002.1', None, 'Homo sapiens genome assembly, contig: BQ8482_Contig_10, whole genome shotgun sequence', 'human', 'CAGAACTTGACGCACACAACTCGAGACTGG', 'TCA', 'a metabolic process that occurs during aerobic and anaerobic respiration of living organisms within the cytoplasm.', 'citrate synthase', 'pace-making enzyme in the first step of the citric acid cycle', '2.3.3.1'), ('AH007467.3', None, 'Homo sapiens chromosome 22 aconitase (ACO2) gene, complete cds', 'human', 'GATGGCGGAGATAACTAAAATTTGTTCTTG', 'TCA', 'a metabolic process that occurs during aerobic and anaerobic respiration of living organisms within the cytoplasm.', 'aconitase', 'an enzyme that catalyses the stereo-specific isomerization of citrate to isocitrate via cis-aconitate in the tricarboxylic acid cycle', '4.2.1.3'), ('KU639670.1', None, 'Homo sapiens voucher NGX277 isocitrate dehydrogenase (IDH2) gene, partial cds', 'human', 'TCCCAATGGAACTATCCGGAACATCCTGGG', 'TCA', 'a metabolic process that occurs during aerobic and anaerobic respiration of living organisms within the cytoplasm.', 'isocitrate dehydrogenase', 'an enzyme that catalyzes the oxidative decarboxylation of isocitrate', '1.1.1.42')]\n"
     ]
    }
   ],
   "source": [
    "c.execute(\"SELECT * FROM assoc;\")\n",
    "print(c.fetchall())"
   ]
  },
  {
   "cell_type": "markdown",
   "metadata": {},
   "source": [
    ">#### Comments:     \n",
    "1. To avoid crashing the website, I only limited the sequence to 30 nucleotides here.   \n",
    "2. As one of the disadvantages of Entrez, the search results from Entrez are inconsistent, therefore some sequences (especially those in e.coli) do not contain useful information."
   ]
  },
  {
   "cell_type": "markdown",
   "metadata": {},
   "source": [
    "> **1. There are relationships between enzymes and pathways—some enzymes belong to certain pathways. Do any belong to multiple pathways? Is this a one-to-many or many-to-many relationship?**       \n",
    "To my knowledge, the enzymes I found here belong to only one pathway, therefore it's a one-to-one relationship. But if there are, it will be a many-to-many relationship because some enzymes might belong to many pathways and a pathway might contain enzymes that are also in its parental table.\n",
    "\n",
    "> **2. There is an order to enzymes within pathways. How can the order be represented in a table?**     \n",
    "Assigning enzymes a name or index, then sort the table by names or index.    \n",
    "\n",
    "> **3. Genes in the gene table encode enzymes in the enzyme table. How can this be represented? Is this a one-to-one, one-to-many, or many-to-many relationship, and in which direction?**    \n",
    "This can be represented by adding a columns that indicates the pathway(s) the enzyme involved to the end of the gene table, and use boolean statement to filter the rows. Gene to enzyme is a one-to-one relationship because one gene corresponds to one enzyme.\n"
   ]
  },
  {
   "cell_type": "markdown",
   "metadata": {},
   "source": [
    "***Some manual modifications on the table***"
   ]
  },
  {
   "cell_type": "code",
   "execution_count": 18,
   "metadata": {},
   "outputs": [],
   "source": [
    "c.execute(\"\"\"UPDATE assoc SET gene_name = \"AC02\" WHERE id == 'AH007467.3';\"\"\")\n",
    "c.execute(\"\"\"UPDATE assoc SET gene_name = \"G6pd\" WHERE id == 'AY364534.1';\"\"\")\n",
    "c.execute(\"\"\"UPDATE assoc SET gene_name = \"PFKM\" WHERE id == 'AH002936.2';\"\"\")\n",
    "c.execute(\"\"\"UPDATE assoc SET gene_name = \"PHGDH\" WHERE id == 'NM_006623.3';\"\"\")\n",
    "c.execute(\"\"\"UPDATE assoc SET gene_name = \"IDH2\" WHERE id == 'KU639670.1';\"\"\")\n",
    "c.execute(\"\"\"UPDATE assoc SET gene_name = \"TALDO1\" WHERE id == 'NM_006755.1';\"\"\")\n",
    "conn.commit()"
   ]
  },
  {
   "cell_type": "markdown",
   "metadata": {},
   "source": [
    "> **Comment**:\n",
    "Due to the inconsistentcy of Entrez search results, not all given sequences are mRNA sequence, thus not all have gene_name. "
   ]
  },
  {
   "cell_type": "markdown",
   "metadata": {},
   "source": [
    "\n",
    "# !! Don't run the following code !!"
   ]
  },
  {
   "cell_type": "code",
   "execution_count": null,
   "metadata": {},
   "outputs": [],
   "source": [
    "#Delete table\n",
    "c.execute(\"\"\"DROP TABLE gene;\"\"\")\n",
    "c.execute(\"\"\"DROP TABLE enzyme;\"\"\")\n",
    "c.execute(\"\"\"DROP TABLE pathway;\"\"\")\n",
    "c.execute(\"\"\"DROP TABLE assoc;\"\"\")\n",
    "conn.commit()"
   ]
  },
  {
   "cell_type": "code",
   "execution_count": null,
   "metadata": {},
   "outputs": [],
   "source": []
  }
 ],
 "metadata": {
  "kernelspec": {
   "display_name": "Python 3",
   "language": "python",
   "name": "python3"
  },
  "language_info": {
   "codemirror_mode": {
    "name": "ipython",
    "version": 3
   },
   "file_extension": ".py",
   "mimetype": "text/x-python",
   "name": "python",
   "nbconvert_exporter": "python",
   "pygments_lexer": "ipython3",
   "version": "3.6.5"
  }
 },
 "nbformat": 4,
 "nbformat_minor": 2
}
